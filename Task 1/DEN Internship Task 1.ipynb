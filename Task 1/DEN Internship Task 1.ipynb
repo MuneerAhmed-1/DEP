{
 "cells": [
  {
   "cell_type": "markdown",
   "id": "5858b050",
   "metadata": {},
   "source": [
    "# Customer Segmentation for a Retail Store"
   ]
  },
  {
   "cell_type": "markdown",
   "id": "25a87b00",
   "metadata": {},
   "source": [
    "`Objective: Use transaction data to segment customers based on their purchasing behavior.`"
   ]
  },
  {
   "cell_type": "code",
   "execution_count": 1,
   "id": "22479cad",
   "metadata": {},
   "outputs": [],
   "source": [
    "import pandas as pd\n",
    "import numpy as np\n",
    "import matplotlib.pyplot as plt\n",
    "from sklearn.cluster import KMeans"
   ]
  },
  {
   "cell_type": "code",
   "execution_count": 2,
   "id": "9d9a05a3",
   "metadata": {},
   "outputs": [],
   "source": [
    "dataset = pd.read_csv('Daily Household Transactions.csv')"
   ]
  },
  {
   "cell_type": "code",
   "execution_count": 3,
   "id": "7edb96d8",
   "metadata": {},
   "outputs": [
    {
     "data": {
      "text/html": [
       "<div>\n",
       "<style scoped>\n",
       "    .dataframe tbody tr th:only-of-type {\n",
       "        vertical-align: middle;\n",
       "    }\n",
       "\n",
       "    .dataframe tbody tr th {\n",
       "        vertical-align: top;\n",
       "    }\n",
       "\n",
       "    .dataframe thead th {\n",
       "        text-align: right;\n",
       "    }\n",
       "</style>\n",
       "<table border=\"1\" class=\"dataframe\">\n",
       "  <thead>\n",
       "    <tr style=\"text-align: right;\">\n",
       "      <th></th>\n",
       "      <th>Date</th>\n",
       "      <th>Mode</th>\n",
       "      <th>Category</th>\n",
       "      <th>Subcategory</th>\n",
       "      <th>Note</th>\n",
       "      <th>Amount</th>\n",
       "      <th>Income/Expense</th>\n",
       "      <th>Currency</th>\n",
       "    </tr>\n",
       "  </thead>\n",
       "  <tbody>\n",
       "    <tr>\n",
       "      <th>0</th>\n",
       "      <td>20/09/2018 12:04:08</td>\n",
       "      <td>Cash</td>\n",
       "      <td>Transportation</td>\n",
       "      <td>Train</td>\n",
       "      <td>2 Place 5 to Place 0</td>\n",
       "      <td>30.0</td>\n",
       "      <td>Expense</td>\n",
       "      <td>INR</td>\n",
       "    </tr>\n",
       "    <tr>\n",
       "      <th>1</th>\n",
       "      <td>20/09/2018 12:03:15</td>\n",
       "      <td>Cash</td>\n",
       "      <td>Food</td>\n",
       "      <td>snacks</td>\n",
       "      <td>Idli medu Vada mix 2 plates</td>\n",
       "      <td>60.0</td>\n",
       "      <td>Expense</td>\n",
       "      <td>INR</td>\n",
       "    </tr>\n",
       "    <tr>\n",
       "      <th>2</th>\n",
       "      <td>19/09/2018</td>\n",
       "      <td>Saving Bank account 1</td>\n",
       "      <td>subscription</td>\n",
       "      <td>Netflix</td>\n",
       "      <td>1 month subscription</td>\n",
       "      <td>199.0</td>\n",
       "      <td>Expense</td>\n",
       "      <td>INR</td>\n",
       "    </tr>\n",
       "    <tr>\n",
       "      <th>3</th>\n",
       "      <td>17/09/2018 23:41:17</td>\n",
       "      <td>Saving Bank account 1</td>\n",
       "      <td>subscription</td>\n",
       "      <td>Mobile Service Provider</td>\n",
       "      <td>Data booster pack</td>\n",
       "      <td>19.0</td>\n",
       "      <td>Expense</td>\n",
       "      <td>INR</td>\n",
       "    </tr>\n",
       "    <tr>\n",
       "      <th>4</th>\n",
       "      <td>16/09/2018 17:15:08</td>\n",
       "      <td>Cash</td>\n",
       "      <td>Festivals</td>\n",
       "      <td>Ganesh Pujan</td>\n",
       "      <td>Ganesh idol</td>\n",
       "      <td>251.0</td>\n",
       "      <td>Expense</td>\n",
       "      <td>INR</td>\n",
       "    </tr>\n",
       "  </tbody>\n",
       "</table>\n",
       "</div>"
      ],
      "text/plain": [
       "                  Date                   Mode        Category  \\\n",
       "0  20/09/2018 12:04:08                   Cash  Transportation   \n",
       "1  20/09/2018 12:03:15                   Cash            Food   \n",
       "2           19/09/2018  Saving Bank account 1    subscription   \n",
       "3  17/09/2018 23:41:17  Saving Bank account 1    subscription   \n",
       "4  16/09/2018 17:15:08                   Cash       Festivals   \n",
       "\n",
       "               Subcategory                         Note  Amount  \\\n",
       "0                    Train         2 Place 5 to Place 0    30.0   \n",
       "1                   snacks  Idli medu Vada mix 2 plates    60.0   \n",
       "2                  Netflix         1 month subscription   199.0   \n",
       "3  Mobile Service Provider            Data booster pack    19.0   \n",
       "4             Ganesh Pujan                  Ganesh idol   251.0   \n",
       "\n",
       "  Income/Expense Currency  \n",
       "0        Expense      INR  \n",
       "1        Expense      INR  \n",
       "2        Expense      INR  \n",
       "3        Expense      INR  \n",
       "4        Expense      INR  "
      ]
     },
     "execution_count": 3,
     "metadata": {},
     "output_type": "execute_result"
    }
   ],
   "source": [
    "dataset.head()"
   ]
  },
  {
   "cell_type": "code",
   "execution_count": 4,
   "id": "9d54223c",
   "metadata": {},
   "outputs": [
    {
     "data": {
      "text/html": [
       "<div>\n",
       "<style scoped>\n",
       "    .dataframe tbody tr th:only-of-type {\n",
       "        vertical-align: middle;\n",
       "    }\n",
       "\n",
       "    .dataframe tbody tr th {\n",
       "        vertical-align: top;\n",
       "    }\n",
       "\n",
       "    .dataframe thead th {\n",
       "        text-align: right;\n",
       "    }\n",
       "</style>\n",
       "<table border=\"1\" class=\"dataframe\">\n",
       "  <thead>\n",
       "    <tr style=\"text-align: right;\">\n",
       "      <th></th>\n",
       "      <th>Date</th>\n",
       "      <th>Mode</th>\n",
       "      <th>Category</th>\n",
       "      <th>Subcategory</th>\n",
       "      <th>Note</th>\n",
       "      <th>Amount</th>\n",
       "      <th>Income/Expense</th>\n",
       "      <th>Currency</th>\n",
       "    </tr>\n",
       "  </thead>\n",
       "  <tbody>\n",
       "    <tr>\n",
       "      <th>594</th>\n",
       "      <td>23/01/2018 21:28:59</td>\n",
       "      <td>Credit Card</td>\n",
       "      <td>Household</td>\n",
       "      <td>Kirana</td>\n",
       "      <td>Smart point</td>\n",
       "      <td>273.0</td>\n",
       "      <td>Expense</td>\n",
       "      <td>INR</td>\n",
       "    </tr>\n",
       "    <tr>\n",
       "      <th>595</th>\n",
       "      <td>22/01/2018 19:05:26</td>\n",
       "      <td>Saving Bank account 1</td>\n",
       "      <td>Food</td>\n",
       "      <td>flour mill</td>\n",
       "      <td>2 kg Bajari</td>\n",
       "      <td>14.0</td>\n",
       "      <td>Expense</td>\n",
       "      <td>INR</td>\n",
       "    </tr>\n",
       "    <tr>\n",
       "      <th>596</th>\n",
       "      <td>22/01/2018 12:08:08</td>\n",
       "      <td>Cash</td>\n",
       "      <td>Food</td>\n",
       "      <td>flour mill</td>\n",
       "      <td>M D sure 3kg atta</td>\n",
       "      <td>162.0</td>\n",
       "      <td>Expense</td>\n",
       "      <td>INR</td>\n",
       "    </tr>\n",
       "    <tr>\n",
       "      <th>597</th>\n",
       "      <td>22/01/2018 10:25:23</td>\n",
       "      <td>Saving Bank account 1</td>\n",
       "      <td>Health</td>\n",
       "      <td>Medicine</td>\n",
       "      <td>Cough-sills 4 pcs + sinarest 3 pcs</td>\n",
       "      <td>30.0</td>\n",
       "      <td>Expense</td>\n",
       "      <td>INR</td>\n",
       "    </tr>\n",
       "    <tr>\n",
       "      <th>598</th>\n",
       "      <td>22/01/2018 10:25:11</td>\n",
       "      <td>Saving Bank account 1</td>\n",
       "      <td>Food</td>\n",
       "      <td>Milk</td>\n",
       "      <td>1 lit</td>\n",
       "      <td>69.0</td>\n",
       "      <td>Expense</td>\n",
       "      <td>INR</td>\n",
       "    </tr>\n",
       "  </tbody>\n",
       "</table>\n",
       "</div>"
      ],
      "text/plain": [
       "                    Date                   Mode   Category Subcategory  \\\n",
       "594  23/01/2018 21:28:59            Credit Card  Household      Kirana   \n",
       "595  22/01/2018 19:05:26  Saving Bank account 1       Food  flour mill   \n",
       "596  22/01/2018 12:08:08                   Cash       Food  flour mill   \n",
       "597  22/01/2018 10:25:23  Saving Bank account 1     Health    Medicine   \n",
       "598  22/01/2018 10:25:11  Saving Bank account 1       Food        Milk   \n",
       "\n",
       "                                   Note  Amount Income/Expense Currency  \n",
       "594                         Smart point   273.0        Expense      INR  \n",
       "595                         2 kg Bajari    14.0        Expense      INR  \n",
       "596                   M D sure 3kg atta   162.0        Expense      INR  \n",
       "597  Cough-sills 4 pcs + sinarest 3 pcs    30.0        Expense      INR  \n",
       "598                              1 lit     69.0        Expense      INR  "
      ]
     },
     "execution_count": 4,
     "metadata": {},
     "output_type": "execute_result"
    }
   ],
   "source": [
    "dataset.tail()"
   ]
  },
  {
   "cell_type": "code",
   "execution_count": 34,
   "id": "11a0e901",
   "metadata": {},
   "outputs": [
    {
     "data": {
      "text/plain": [
       "Index(['Date', 'Mode', 'Category', 'Subcategory', 'Note', 'Amount',\n",
       "       'Income/Expense', 'Currency'],\n",
       "      dtype='object')"
      ]
     },
     "execution_count": 34,
     "metadata": {},
     "output_type": "execute_result"
    }
   ],
   "source": [
    "dataset.columns"
   ]
  },
  {
   "cell_type": "code",
   "execution_count": 5,
   "id": "53745d33",
   "metadata": {},
   "outputs": [
    {
     "data": {
      "text/html": [
       "<div>\n",
       "<style scoped>\n",
       "    .dataframe tbody tr th:only-of-type {\n",
       "        vertical-align: middle;\n",
       "    }\n",
       "\n",
       "    .dataframe tbody tr th {\n",
       "        vertical-align: top;\n",
       "    }\n",
       "\n",
       "    .dataframe thead th {\n",
       "        text-align: right;\n",
       "    }\n",
       "</style>\n",
       "<table border=\"1\" class=\"dataframe\">\n",
       "  <thead>\n",
       "    <tr style=\"text-align: right;\">\n",
       "      <th></th>\n",
       "      <th>Amount</th>\n",
       "    </tr>\n",
       "  </thead>\n",
       "  <tbody>\n",
       "    <tr>\n",
       "      <th>count</th>\n",
       "      <td>599.000000</td>\n",
       "    </tr>\n",
       "    <tr>\n",
       "      <th>mean</th>\n",
       "      <td>2026.219983</td>\n",
       "    </tr>\n",
       "    <tr>\n",
       "      <th>std</th>\n",
       "      <td>8478.642674</td>\n",
       "    </tr>\n",
       "    <tr>\n",
       "      <th>min</th>\n",
       "      <td>2.000000</td>\n",
       "    </tr>\n",
       "    <tr>\n",
       "      <th>25%</th>\n",
       "      <td>36.000000</td>\n",
       "    </tr>\n",
       "    <tr>\n",
       "      <th>50%</th>\n",
       "      <td>77.000000</td>\n",
       "    </tr>\n",
       "    <tr>\n",
       "      <th>75%</th>\n",
       "      <td>489.680000</td>\n",
       "    </tr>\n",
       "    <tr>\n",
       "      <th>max</th>\n",
       "      <td>70255.000000</td>\n",
       "    </tr>\n",
       "  </tbody>\n",
       "</table>\n",
       "</div>"
      ],
      "text/plain": [
       "             Amount\n",
       "count    599.000000\n",
       "mean    2026.219983\n",
       "std     8478.642674\n",
       "min        2.000000\n",
       "25%       36.000000\n",
       "50%       77.000000\n",
       "75%      489.680000\n",
       "max    70255.000000"
      ]
     },
     "execution_count": 5,
     "metadata": {},
     "output_type": "execute_result"
    }
   ],
   "source": [
    "dataset.describe()"
   ]
  },
  {
   "cell_type": "code",
   "execution_count": 6,
   "id": "98a83083",
   "metadata": {},
   "outputs": [
    {
     "name": "stdout",
     "output_type": "stream",
     "text": [
      "<class 'pandas.core.frame.DataFrame'>\n",
      "RangeIndex: 599 entries, 0 to 598\n",
      "Data columns (total 8 columns):\n",
      " #   Column          Non-Null Count  Dtype  \n",
      "---  ------          --------------  -----  \n",
      " 0   Date            599 non-null    object \n",
      " 1   Mode            599 non-null    object \n",
      " 2   Category        599 non-null    object \n",
      " 3   Subcategory     489 non-null    object \n",
      " 4   Note            495 non-null    object \n",
      " 5   Amount          599 non-null    float64\n",
      " 6   Income/Expense  599 non-null    object \n",
      " 7   Currency        599 non-null    object \n",
      "dtypes: float64(1), object(7)\n",
      "memory usage: 37.6+ KB\n"
     ]
    }
   ],
   "source": [
    "dataset.info()"
   ]
  },
  {
   "cell_type": "code",
   "execution_count": 8,
   "id": "27fceeb0",
   "metadata": {},
   "outputs": [
    {
     "data": {
      "text/plain": [
       "Date                0\n",
       "Mode                0\n",
       "Category            0\n",
       "Subcategory       110\n",
       "Note              104\n",
       "Amount              0\n",
       "Income/Expense      0\n",
       "Currency            0\n",
       "dtype: int64"
      ]
     },
     "execution_count": 8,
     "metadata": {},
     "output_type": "execute_result"
    }
   ],
   "source": [
    "dataset.isnull().sum()"
   ]
  },
  {
   "cell_type": "code",
   "execution_count": 10,
   "id": "505bdbdd",
   "metadata": {},
   "outputs": [
    {
     "data": {
      "text/plain": [
       "Date              599\n",
       "Mode              599\n",
       "Category          599\n",
       "Subcategory       489\n",
       "Note              495\n",
       "Amount            599\n",
       "Income/Expense    599\n",
       "Currency          599\n",
       "dtype: int64"
      ]
     },
     "execution_count": 10,
     "metadata": {},
     "output_type": "execute_result"
    }
   ],
   "source": [
    "dataset.count()"
   ]
  },
  {
   "cell_type": "code",
   "execution_count": 22,
   "id": "5a153674",
   "metadata": {},
   "outputs": [],
   "source": [
    "dataset.dropna(inplace = True)"
   ]
  },
  {
   "cell_type": "code",
   "execution_count": 23,
   "id": "f697f950",
   "metadata": {},
   "outputs": [
    {
     "data": {
      "text/plain": [
       "Date              445\n",
       "Mode              445\n",
       "Category          445\n",
       "Subcategory       445\n",
       "Note              445\n",
       "Amount            445\n",
       "Income/Expense    445\n",
       "Currency          445\n",
       "dtype: int64"
      ]
     },
     "execution_count": 23,
     "metadata": {},
     "output_type": "execute_result"
    }
   ],
   "source": [
    "dataset.count()"
   ]
  },
  {
   "cell_type": "code",
   "execution_count": 30,
   "id": "7febee14",
   "metadata": {},
   "outputs": [
    {
     "data": {
      "text/plain": [
       "Date              0\n",
       "Mode              0\n",
       "Category          0\n",
       "Subcategory       0\n",
       "Note              0\n",
       "Amount            0\n",
       "Income/Expense    0\n",
       "Currency          0\n",
       "dtype: int64"
      ]
     },
     "execution_count": 30,
     "metadata": {},
     "output_type": "execute_result"
    }
   ],
   "source": [
    "dataset.isnull().sum()"
   ]
  },
  {
   "cell_type": "code",
   "execution_count": 31,
   "id": "6fad4da3",
   "metadata": {},
   "outputs": [
    {
     "data": {
      "text/html": [
       "<div>\n",
       "<style scoped>\n",
       "    .dataframe tbody tr th:only-of-type {\n",
       "        vertical-align: middle;\n",
       "    }\n",
       "\n",
       "    .dataframe tbody tr th {\n",
       "        vertical-align: top;\n",
       "    }\n",
       "\n",
       "    .dataframe thead th {\n",
       "        text-align: right;\n",
       "    }\n",
       "</style>\n",
       "<table border=\"1\" class=\"dataframe\">\n",
       "  <thead>\n",
       "    <tr style=\"text-align: right;\">\n",
       "      <th></th>\n",
       "      <th>Date</th>\n",
       "      <th>Mode</th>\n",
       "      <th>Category</th>\n",
       "      <th>Subcategory</th>\n",
       "      <th>Note</th>\n",
       "      <th>Amount</th>\n",
       "      <th>Income/Expense</th>\n",
       "      <th>Currency</th>\n",
       "    </tr>\n",
       "  </thead>\n",
       "  <tbody>\n",
       "    <tr>\n",
       "      <th>0</th>\n",
       "      <td>20/09/2018 12:04:08</td>\n",
       "      <td>Cash</td>\n",
       "      <td>Transportation</td>\n",
       "      <td>Train</td>\n",
       "      <td>2 Place 5 to Place 0</td>\n",
       "      <td>30.0</td>\n",
       "      <td>Expense</td>\n",
       "      <td>INR</td>\n",
       "    </tr>\n",
       "    <tr>\n",
       "      <th>1</th>\n",
       "      <td>20/09/2018 12:03:15</td>\n",
       "      <td>Cash</td>\n",
       "      <td>Food</td>\n",
       "      <td>snacks</td>\n",
       "      <td>Idli medu Vada mix 2 plates</td>\n",
       "      <td>60.0</td>\n",
       "      <td>Expense</td>\n",
       "      <td>INR</td>\n",
       "    </tr>\n",
       "    <tr>\n",
       "      <th>2</th>\n",
       "      <td>19/09/2018</td>\n",
       "      <td>Saving Bank account 1</td>\n",
       "      <td>subscription</td>\n",
       "      <td>Netflix</td>\n",
       "      <td>1 month subscription</td>\n",
       "      <td>199.0</td>\n",
       "      <td>Expense</td>\n",
       "      <td>INR</td>\n",
       "    </tr>\n",
       "    <tr>\n",
       "      <th>3</th>\n",
       "      <td>17/09/2018 23:41:17</td>\n",
       "      <td>Saving Bank account 1</td>\n",
       "      <td>subscription</td>\n",
       "      <td>Mobile Service Provider</td>\n",
       "      <td>Data booster pack</td>\n",
       "      <td>19.0</td>\n",
       "      <td>Expense</td>\n",
       "      <td>INR</td>\n",
       "    </tr>\n",
       "    <tr>\n",
       "      <th>4</th>\n",
       "      <td>16/09/2018 17:15:08</td>\n",
       "      <td>Cash</td>\n",
       "      <td>Festivals</td>\n",
       "      <td>Ganesh Pujan</td>\n",
       "      <td>Ganesh idol</td>\n",
       "      <td>251.0</td>\n",
       "      <td>Expense</td>\n",
       "      <td>INR</td>\n",
       "    </tr>\n",
       "    <tr>\n",
       "      <th>...</th>\n",
       "      <td>...</td>\n",
       "      <td>...</td>\n",
       "      <td>...</td>\n",
       "      <td>...</td>\n",
       "      <td>...</td>\n",
       "      <td>...</td>\n",
       "      <td>...</td>\n",
       "      <td>...</td>\n",
       "    </tr>\n",
       "    <tr>\n",
       "      <th>594</th>\n",
       "      <td>23/01/2018 21:28:59</td>\n",
       "      <td>Credit Card</td>\n",
       "      <td>Household</td>\n",
       "      <td>Kirana</td>\n",
       "      <td>Smart point</td>\n",
       "      <td>273.0</td>\n",
       "      <td>Expense</td>\n",
       "      <td>INR</td>\n",
       "    </tr>\n",
       "    <tr>\n",
       "      <th>595</th>\n",
       "      <td>22/01/2018 19:05:26</td>\n",
       "      <td>Saving Bank account 1</td>\n",
       "      <td>Food</td>\n",
       "      <td>flour mill</td>\n",
       "      <td>2 kg Bajari</td>\n",
       "      <td>14.0</td>\n",
       "      <td>Expense</td>\n",
       "      <td>INR</td>\n",
       "    </tr>\n",
       "    <tr>\n",
       "      <th>596</th>\n",
       "      <td>22/01/2018 12:08:08</td>\n",
       "      <td>Cash</td>\n",
       "      <td>Food</td>\n",
       "      <td>flour mill</td>\n",
       "      <td>M D sure 3kg atta</td>\n",
       "      <td>162.0</td>\n",
       "      <td>Expense</td>\n",
       "      <td>INR</td>\n",
       "    </tr>\n",
       "    <tr>\n",
       "      <th>597</th>\n",
       "      <td>22/01/2018 10:25:23</td>\n",
       "      <td>Saving Bank account 1</td>\n",
       "      <td>Health</td>\n",
       "      <td>Medicine</td>\n",
       "      <td>Cough-sills 4 pcs + sinarest 3 pcs</td>\n",
       "      <td>30.0</td>\n",
       "      <td>Expense</td>\n",
       "      <td>INR</td>\n",
       "    </tr>\n",
       "    <tr>\n",
       "      <th>598</th>\n",
       "      <td>22/01/2018 10:25:11</td>\n",
       "      <td>Saving Bank account 1</td>\n",
       "      <td>Food</td>\n",
       "      <td>Milk</td>\n",
       "      <td>1 lit</td>\n",
       "      <td>69.0</td>\n",
       "      <td>Expense</td>\n",
       "      <td>INR</td>\n",
       "    </tr>\n",
       "  </tbody>\n",
       "</table>\n",
       "<p>445 rows × 8 columns</p>\n",
       "</div>"
      ],
      "text/plain": [
       "                    Date                   Mode        Category  \\\n",
       "0    20/09/2018 12:04:08                   Cash  Transportation   \n",
       "1    20/09/2018 12:03:15                   Cash            Food   \n",
       "2             19/09/2018  Saving Bank account 1    subscription   \n",
       "3    17/09/2018 23:41:17  Saving Bank account 1    subscription   \n",
       "4    16/09/2018 17:15:08                   Cash       Festivals   \n",
       "..                   ...                    ...             ...   \n",
       "594  23/01/2018 21:28:59            Credit Card       Household   \n",
       "595  22/01/2018 19:05:26  Saving Bank account 1            Food   \n",
       "596  22/01/2018 12:08:08                   Cash            Food   \n",
       "597  22/01/2018 10:25:23  Saving Bank account 1          Health   \n",
       "598  22/01/2018 10:25:11  Saving Bank account 1            Food   \n",
       "\n",
       "                 Subcategory                                Note  Amount  \\\n",
       "0                      Train                2 Place 5 to Place 0    30.0   \n",
       "1                     snacks         Idli medu Vada mix 2 plates    60.0   \n",
       "2                    Netflix                1 month subscription   199.0   \n",
       "3    Mobile Service Provider                   Data booster pack    19.0   \n",
       "4               Ganesh Pujan                         Ganesh idol   251.0   \n",
       "..                       ...                                 ...     ...   \n",
       "594                   Kirana                         Smart point   273.0   \n",
       "595               flour mill                         2 kg Bajari    14.0   \n",
       "596               flour mill                   M D sure 3kg atta   162.0   \n",
       "597                 Medicine  Cough-sills 4 pcs + sinarest 3 pcs    30.0   \n",
       "598                     Milk                              1 lit     69.0   \n",
       "\n",
       "    Income/Expense Currency  \n",
       "0          Expense      INR  \n",
       "1          Expense      INR  \n",
       "2          Expense      INR  \n",
       "3          Expense      INR  \n",
       "4          Expense      INR  \n",
       "..             ...      ...  \n",
       "594        Expense      INR  \n",
       "595        Expense      INR  \n",
       "596        Expense      INR  \n",
       "597        Expense      INR  \n",
       "598        Expense      INR  \n",
       "\n",
       "[445 rows x 8 columns]"
      ]
     },
     "execution_count": 31,
     "metadata": {},
     "output_type": "execute_result"
    }
   ],
   "source": [
    "dataset"
   ]
  },
  {
   "cell_type": "code",
   "execution_count": 39,
   "id": "73b374ef",
   "metadata": {},
   "outputs": [
    {
     "data": {
      "image/png": "[encoded data removed]",
      "text/plain": [
       "<Figure size 432x288 with 1 Axes>"
      ]
     },
     "metadata": {
      "needs_background": "light"
     },
     "output_type": "display_data"
    }
   ],
   "source": [
    "payment_mode_counts = dataset['Mode'].value_counts()\n",
    "payment_mode_counts.plot(kind = 'bar')\n",
    "plt.title('Payment Mode Distribution')\n",
    "plt.xlabel('Payment Mode')\n",
    "plt.ylabel('Count')\n",
    "plt.show()"
   ]
  },
  {
   "cell_type": "code",
   "execution_count": 40,
   "id": "df67efee",
   "metadata": {},
   "outputs": [
    {
     "data": {
      "image/png": "[encoded data removed]",
      "text/plain": [
       "<Figure size 432x288 with 1 Axes>"
      ]
     },
     "metadata": {
      "needs_background": "light"
     },
     "output_type": "display_data"
    }
   ],
   "source": [
    "category_counts = dataset['Category'].value_counts()\n",
    "category_counts.plot(kind = 'bar')\n",
    "plt.title('Category Distribution')\n",
    "plt.xlabel('Category')\n",
    "plt.ylabel('Count')\n",
    "plt.show()"
   ]
  },
  {
   "cell_type": "code",
   "execution_count": 47,
   "id": "b7cdaea6",
   "metadata": {},
   "outputs": [
    {
     "data": {
      "text/plain": [
       "Text(0.5, 1.0, 'Distribution of Expenses by Category')"
      ]
     },
     "execution_count": 47,
     "metadata": {},
     "output_type": "execute_result"
    },
    {
     "data": {
      "image/png": "[encoded data removed]",
      "text/plain": [
       "<Figure size 432x288 with 1 Axes>"
      ]
     },
     "metadata": {},
     "output_type": "display_data"
    }
   ],
   "source": [
    "dataset.groupby('Category')['Amount'].sum().plot(kind='pie', autopct='%1.1f%%')\n",
    "plt.title('Distribution of Expenses by Category')"
   ]
  },
  {
   "cell_type": "code",
   "execution_count": 64,
   "id": "87ea06ef",
   "metadata": {},
   "outputs": [
    {
     "data": {
      "image/png": "[encoded data removed]",
      "text/plain": [
       "<Figure size 432x288 with 1 Axes>"
      ]
     },
     "metadata": {},
     "output_type": "display_data"
    }
   ],
   "source": [
    "expense_data = dataset[dataset['Income/Expense'] == 'Expense']\n",
    "\n",
    "category_expenses = expense_data.groupby('Category')['Amount'].sum()\n",
    "\n",
    "total_expenses = category_expenses.sum()\n",
    "filtered_categories = category_expenses[category_expenses / total_expenses < 0.05]\n",
    "\n",
    "filtered_categories.plot(kind='pie', autopct='%1.1f%%')\n",
    "plt.title('Categories with Expenses Less Than 5%')\n",
    "plt.ylabel('')\n",
    "plt.show()"
   ]
  },
  {
   "cell_type": "code",
   "execution_count": 48,
   "id": "c22a361f",
   "metadata": {},
   "outputs": [
    {
     "data": {
      "image/png": "[encoded data removed]",
      "text/plain": [
       "<Figure size 432x288 with 1 Axes>"
      ]
     },
     "metadata": {
      "needs_background": "light"
     },
     "output_type": "display_data"
    }
   ],
   "source": [
    "curr_counts = dataset['Currency'].value_counts()\n",
    "curr_counts.plot(kind = 'bar')\n",
    "plt.title('Currency Distribution')\n",
    "plt.xlabel('Currency')\n",
    "plt.ylabel('Count')\n",
    "plt.show()"
   ]
  },
  {
   "cell_type": "code",
   "execution_count": 50,
   "id": "1fb57f07",
   "metadata": {},
   "outputs": [],
   "source": [
    "from sklearn.preprocessing import StandardScaler\n",
    "\n",
    "selected_columns = ['Amount', 'Category', 'Subcategory']\n",
    "data_selected = dataset[selected_columns]"
   ]
  },
  {
   "cell_type": "code",
   "execution_count": 51,
   "id": "089541b7",
   "metadata": {},
   "outputs": [],
   "source": [
    "data_encoded = pd.get_dummies(data_selected, columns = ['Category', 'Subcategory'])"
   ]
  },
  {
   "cell_type": "code",
   "execution_count": 52,
   "id": "e242be37",
   "metadata": {},
   "outputs": [],
   "source": [
    "scaler = StandardScaler()\n",
    "data_scaled = scaler.fit_transform(data_encoded)"
   ]
  },
  {
   "cell_type": "code",
   "execution_count": 54,
   "id": "f5b748f9",
   "metadata": {},
   "outputs": [
    {
     "data": {
      "text/html": [
       "<div>\n",
       "<style scoped>\n",
       "    .dataframe tbody tr th:only-of-type {\n",
       "        vertical-align: middle;\n",
       "    }\n",
       "\n",
       "    .dataframe tbody tr th {\n",
       "        vertical-align: top;\n",
       "    }\n",
       "\n",
       "    .dataframe thead th {\n",
       "        text-align: right;\n",
       "    }\n",
       "</style>\n",
       "<table border=\"1\" class=\"dataframe\">\n",
       "  <thead>\n",
       "    <tr style=\"text-align: right;\">\n",
       "      <th></th>\n",
       "      <th>Amount</th>\n",
       "      <th>Category_Apparel</th>\n",
       "      <th>Category_Beauty</th>\n",
       "      <th>Category_Culture</th>\n",
       "      <th>Category_Documents</th>\n",
       "      <th>Category_Education</th>\n",
       "      <th>Category_Family</th>\n",
       "      <th>Category_Festivals</th>\n",
       "      <th>Category_Food</th>\n",
       "      <th>Category_Health</th>\n",
       "      <th>...</th>\n",
       "      <th>Subcategory_flour mill</th>\n",
       "      <th>Subcategory_fruits</th>\n",
       "      <th>Subcategory_gadgets</th>\n",
       "      <th>Subcategory_grooming</th>\n",
       "      <th>Subcategory_home decor</th>\n",
       "      <th>Subcategory_makeup</th>\n",
       "      <th>Subcategory_misc</th>\n",
       "      <th>Subcategory_snacks</th>\n",
       "      <th>Subcategory_train</th>\n",
       "      <th>Subcategory_vegetables</th>\n",
       "    </tr>\n",
       "  </thead>\n",
       "  <tbody>\n",
       "    <tr>\n",
       "      <th>0</th>\n",
       "      <td>-0.154891</td>\n",
       "      <td>-0.193122</td>\n",
       "      <td>-0.1066</td>\n",
       "      <td>-0.095238</td>\n",
       "      <td>-0.047458</td>\n",
       "      <td>-0.082385</td>\n",
       "      <td>-0.1066</td>\n",
       "      <td>-0.082385</td>\n",
       "      <td>-1.101785</td>\n",
       "      <td>-0.21693</td>\n",
       "      <td>...</td>\n",
       "      <td>-0.135302</td>\n",
       "      <td>-0.095238</td>\n",
       "      <td>-0.067191</td>\n",
       "      <td>-0.1066</td>\n",
       "      <td>-0.082385</td>\n",
       "      <td>-0.047458</td>\n",
       "      <td>-0.047458</td>\n",
       "      <td>-0.309934</td>\n",
       "      <td>-0.095238</td>\n",
       "      <td>-0.082385</td>\n",
       "    </tr>\n",
       "    <tr>\n",
       "      <th>1</th>\n",
       "      <td>-0.142333</td>\n",
       "      <td>-0.193122</td>\n",
       "      <td>-0.1066</td>\n",
       "      <td>-0.095238</td>\n",
       "      <td>-0.047458</td>\n",
       "      <td>-0.082385</td>\n",
       "      <td>-0.1066</td>\n",
       "      <td>-0.082385</td>\n",
       "      <td>0.907618</td>\n",
       "      <td>-0.21693</td>\n",
       "      <td>...</td>\n",
       "      <td>-0.135302</td>\n",
       "      <td>-0.095238</td>\n",
       "      <td>-0.067191</td>\n",
       "      <td>-0.1066</td>\n",
       "      <td>-0.082385</td>\n",
       "      <td>-0.047458</td>\n",
       "      <td>-0.047458</td>\n",
       "      <td>3.226493</td>\n",
       "      <td>-0.095238</td>\n",
       "      <td>-0.082385</td>\n",
       "    </tr>\n",
       "    <tr>\n",
       "      <th>2</th>\n",
       "      <td>-0.084149</td>\n",
       "      <td>-0.193122</td>\n",
       "      <td>-0.1066</td>\n",
       "      <td>-0.095238</td>\n",
       "      <td>-0.047458</td>\n",
       "      <td>-0.082385</td>\n",
       "      <td>-0.1066</td>\n",
       "      <td>-0.082385</td>\n",
       "      <td>-1.101785</td>\n",
       "      <td>-0.21693</td>\n",
       "      <td>...</td>\n",
       "      <td>-0.135302</td>\n",
       "      <td>-0.095238</td>\n",
       "      <td>-0.067191</td>\n",
       "      <td>-0.1066</td>\n",
       "      <td>-0.082385</td>\n",
       "      <td>-0.047458</td>\n",
       "      <td>-0.047458</td>\n",
       "      <td>-0.309934</td>\n",
       "      <td>-0.095238</td>\n",
       "      <td>-0.082385</td>\n",
       "    </tr>\n",
       "    <tr>\n",
       "      <th>3</th>\n",
       "      <td>-0.159495</td>\n",
       "      <td>-0.193122</td>\n",
       "      <td>-0.1066</td>\n",
       "      <td>-0.095238</td>\n",
       "      <td>-0.047458</td>\n",
       "      <td>-0.082385</td>\n",
       "      <td>-0.1066</td>\n",
       "      <td>-0.082385</td>\n",
       "      <td>-1.101785</td>\n",
       "      <td>-0.21693</td>\n",
       "      <td>...</td>\n",
       "      <td>-0.135302</td>\n",
       "      <td>-0.095238</td>\n",
       "      <td>-0.067191</td>\n",
       "      <td>-0.1066</td>\n",
       "      <td>-0.082385</td>\n",
       "      <td>-0.047458</td>\n",
       "      <td>-0.047458</td>\n",
       "      <td>-0.309934</td>\n",
       "      <td>-0.095238</td>\n",
       "      <td>-0.082385</td>\n",
       "    </tr>\n",
       "    <tr>\n",
       "      <th>4</th>\n",
       "      <td>-0.062383</td>\n",
       "      <td>-0.193122</td>\n",
       "      <td>-0.1066</td>\n",
       "      <td>-0.095238</td>\n",
       "      <td>-0.047458</td>\n",
       "      <td>-0.082385</td>\n",
       "      <td>-0.1066</td>\n",
       "      <td>12.138094</td>\n",
       "      <td>-1.101785</td>\n",
       "      <td>-0.21693</td>\n",
       "      <td>...</td>\n",
       "      <td>-0.135302</td>\n",
       "      <td>-0.095238</td>\n",
       "      <td>-0.067191</td>\n",
       "      <td>-0.1066</td>\n",
       "      <td>-0.082385</td>\n",
       "      <td>-0.047458</td>\n",
       "      <td>-0.047458</td>\n",
       "      <td>-0.309934</td>\n",
       "      <td>-0.095238</td>\n",
       "      <td>-0.082385</td>\n",
       "    </tr>\n",
       "  </tbody>\n",
       "</table>\n",
       "<p>5 rows × 75 columns</p>\n",
       "</div>"
      ],
      "text/plain": [
       "     Amount  Category_Apparel  Category_Beauty  Category_Culture  \\\n",
       "0 -0.154891         -0.193122          -0.1066         -0.095238   \n",
       "1 -0.142333         -0.193122          -0.1066         -0.095238   \n",
       "2 -0.084149         -0.193122          -0.1066         -0.095238   \n",
       "3 -0.159495         -0.193122          -0.1066         -0.095238   \n",
       "4 -0.062383         -0.193122          -0.1066         -0.095238   \n",
       "\n",
       "   Category_Documents  Category_Education  Category_Family  \\\n",
       "0           -0.047458           -0.082385          -0.1066   \n",
       "1           -0.047458           -0.082385          -0.1066   \n",
       "2           -0.047458           -0.082385          -0.1066   \n",
       "3           -0.047458           -0.082385          -0.1066   \n",
       "4           -0.047458           -0.082385          -0.1066   \n",
       "\n",
       "   Category_Festivals  Category_Food  Category_Health  ...  \\\n",
       "0           -0.082385      -1.101785         -0.21693  ...   \n",
       "1           -0.082385       0.907618         -0.21693  ...   \n",
       "2           -0.082385      -1.101785         -0.21693  ...   \n",
       "3           -0.082385      -1.101785         -0.21693  ...   \n",
       "4           12.138094      -1.101785         -0.21693  ...   \n",
       "\n",
       "   Subcategory_flour mill  Subcategory_fruits  Subcategory_gadgets  \\\n",
       "0               -0.135302           -0.095238            -0.067191   \n",
       "1               -0.135302           -0.095238            -0.067191   \n",
       "2               -0.135302           -0.095238            -0.067191   \n",
       "3               -0.135302           -0.095238            -0.067191   \n",
       "4               -0.135302           -0.095238            -0.067191   \n",
       "\n",
       "   Subcategory_grooming  Subcategory_home decor  Subcategory_makeup  \\\n",
       "0               -0.1066               -0.082385           -0.047458   \n",
       "1               -0.1066               -0.082385           -0.047458   \n",
       "2               -0.1066               -0.082385           -0.047458   \n",
       "3               -0.1066               -0.082385           -0.047458   \n",
       "4               -0.1066               -0.082385           -0.047458   \n",
       "\n",
       "   Subcategory_misc  Subcategory_snacks  Subcategory_train  \\\n",
       "0         -0.047458           -0.309934          -0.095238   \n",
       "1         -0.047458            3.226493          -0.095238   \n",
       "2         -0.047458           -0.309934          -0.095238   \n",
       "3         -0.047458           -0.309934          -0.095238   \n",
       "4         -0.047458           -0.309934          -0.095238   \n",
       "\n",
       "   Subcategory_vegetables  \n",
       "0               -0.082385  \n",
       "1               -0.082385  \n",
       "2               -0.082385  \n",
       "3               -0.082385  \n",
       "4               -0.082385  \n",
       "\n",
       "[5 rows x 75 columns]"
      ]
     },
     "execution_count": 54,
     "metadata": {},
     "output_type": "execute_result"
    }
   ],
   "source": [
    "data_scaled_dataset = pd.DataFrame(data_scaled, columns=data_encoded.columns)\n",
    "data_scaled_dataset.head()"
   ]
  },
  {
   "cell_type": "code",
   "execution_count": 56,
   "id": "10c744be",
   "metadata": {},
   "outputs": [
    {
     "name": "stderr",
     "output_type": "stream",
     "text": [
      "C:\\ProgramData\\Anaconda3\\lib\\site-packages\\sklearn\\cluster\\_kmeans.py:881: UserWarning: KMeans is known to have a memory leak on Windows with MKL, when there are less chunks than available threads. You can avoid it by setting the environment variable OMP_NUM_THREADS=2.\n",
      "  warnings.warn(\n"
     ]
    },
    {
     "data": {
      "image/png": "[encoded data removed]",
      "text/plain": [
       "<Figure size 432x288 with 1 Axes>"
      ]
     },
     "metadata": {
      "needs_background": "light"
     },
     "output_type": "display_data"
    }
   ],
   "source": [
    "inertia = []\n",
    "for n in range(1, 11):\n",
    "    kmeans = KMeans(n_clusters=n, random_state=0)\n",
    "    kmeans.fit(data_scaled_dataset)\n",
    "    inertia.append(kmeans.inertia_)\n",
    "\n",
    "plt.plot(range(1, 11), inertia)\n",
    "plt.xlabel('Number of Clusters')\n",
    "plt.ylabel('Inertia')\n",
    "plt.title('Elbow Method')\n",
    "plt.show()"
   ]
  },
  {
   "cell_type": "code",
   "execution_count": 59,
   "id": "c4ec5756",
   "metadata": {},
   "outputs": [
    {
     "name": "stdout",
     "output_type": "stream",
     "text": [
      "                  Date                   Mode        Category  \\\n",
      "0  20/09/2018 12:04:08                   Cash  Transportation   \n",
      "1  20/09/2018 12:03:15                   Cash            Food   \n",
      "2           19/09/2018  Saving Bank account 1    subscription   \n",
      "3  17/09/2018 23:41:17  Saving Bank account 1    subscription   \n",
      "4  16/09/2018 17:15:08                   Cash       Festivals   \n",
      "\n",
      "               Subcategory                         Note  Amount  \\\n",
      "0                    Train         2 Place 5 to Place 0    30.0   \n",
      "1                   snacks  Idli medu Vada mix 2 plates    60.0   \n",
      "2                  Netflix         1 month subscription   199.0   \n",
      "3  Mobile Service Provider            Data booster pack    19.0   \n",
      "4             Ganesh Pujan                  Ganesh idol   251.0   \n",
      "\n",
      "  Income/Expense Currency  Clusters  \n",
      "0        Expense      INR         4  \n",
      "1        Expense      INR         1  \n",
      "2        Expense      INR         1  \n",
      "3        Expense      INR         1  \n",
      "4        Expense      INR         1  \n"
     ]
    }
   ],
   "source": [
    "optimal_clusters = 8\n",
    "kmeans = KMeans(n_clusters=optimal_clusters, random_state=0)\n",
    "kmeans.fit(data_scaled_dataset)\n",
    "\n",
    "dataset['Clusters'] = kmeans.labels_\n",
    "print(dataset.head())"
   ]
  },
  {
   "cell_type": "code",
   "execution_count": 63,
   "id": "584c9fdd",
   "metadata": {},
   "outputs": [
    {
     "name": "stdout",
     "output_type": "stream",
     "text": [
      "Cluster 0\n",
      "                    Date                   Mode   Category Subcategory  \\\n",
      "137  16/07/2018 10:43:53            Credit Card  Household    Hardware   \n",
      "197  29/06/2018 16:13:02                   Cash  Household    Hardware   \n",
      "219  26/06/2018 12:49:54  Saving Bank account 1  Household    Hardware   \n",
      "384             2/4/2018            Credit Card  Household    Hardware   \n",
      "454            10/3/2018                   Cash  Household    Hardware   \n",
      "\n",
      "                                Note  Amount Income/Expense Currency  Clusters  \n",
      "137  Sony WI-C100 earphones wireless  1190.0        Expense      INR         0  \n",
      "197                 Tulsi plant+ pot    70.0        Expense      INR         0  \n",
      "219           Umbrella handle repair    70.0        Expense      INR         0  \n",
      "384                   Window cleaner   149.0        Expense      INR         0  \n",
      "454                  Mosquito Racket   300.0        Expense      INR         0  \n",
      "Cluster 1\n",
      "                  Date                   Mode      Category  \\\n",
      "1  20/09/2018 12:03:15                   Cash          Food   \n",
      "2           19/09/2018  Saving Bank account 1  subscription   \n",
      "3  17/09/2018 23:41:17  Saving Bank account 1  subscription   \n",
      "4  16/09/2018 17:15:08                   Cash     Festivals   \n",
      "5  15/09/2018 06:34:17            Credit Card  subscription   \n",
      "\n",
      "               Subcategory                                      Note  Amount  \\\n",
      "1                   snacks               Idli medu Vada mix 2 plates    60.0   \n",
      "2                  Netflix                      1 month subscription   199.0   \n",
      "3  Mobile Service Provider                         Data booster pack    19.0   \n",
      "4             Ganesh Pujan                               Ganesh idol   251.0   \n",
      "5                 Tata Sky  Permanent Residence - Tata Play recharge   200.0   \n",
      "\n",
      "  Income/Expense Currency  Clusters  \n",
      "1        Expense      INR         1  \n",
      "2        Expense      INR         1  \n",
      "3        Expense      INR         1  \n",
      "4        Expense      INR         1  \n",
      "5        Expense      INR         1  \n",
      "Cluster 2\n",
      "                   Date  Mode   Category Subcategory  \\\n",
      "36  30/08/2018 21:09:51  Cash  Household      Kirana   \n",
      "70  14/08/2018 09:50:12  Cash  Household      Kirana   \n",
      "73  13/08/2018 18:37:27  Cash  Household  Appliances   \n",
      "74  13/08/2018 18:36:01  Cash  Household  home decor   \n",
      "76  13/08/2018 18:33:36  Cash  Household      Kirana   \n",
      "\n",
      "                            Note  Amount Income/Expense Currency  Clusters  \n",
      "36                     Supermart   343.0        Expense      INR         2  \n",
      "70          Toothpaste Patanjali   160.0        Expense      INR         2  \n",
      "73  5 litres can Distilled water   100.0        Expense      INR         2  \n",
      "74     Brass Puja plate and diva   220.0        Expense      INR         2  \n",
      "76                     Supermart   594.0        Expense      INR         2  \n",
      "Cluster 3\n",
      "         Date         Mode   Category Subcategory                      Note  \\\n",
      "472  6/3/2018  Credit Card  Documents     Courier  Aadhar PUC card delivery   \n",
      "\n",
      "     Amount Income/Expense Currency  Clusters  \n",
      "472    50.0        Expense      INR         3  \n",
      "Cluster 4\n",
      "                   Date                   Mode        Category Subcategory  \\\n",
      "0   20/09/2018 12:04:08                   Cash  Transportation       Train   \n",
      "6   14/09/2018 05:39:17                   Cash  Transportation        auto   \n",
      "7   13/09/2018 21:35:15  Saving Bank account 1  Transportation       Train   \n",
      "53  23/08/2018 21:29:52            Credit Card  Transportation       train   \n",
      "54  23/08/2018 21:29:12            Credit Card  Transportation       train   \n",
      "\n",
      "                                           Note  Amount Income/Expense  \\\n",
      "0                          2 Place 5 to Place 0    30.0        Expense   \n",
      "6        Place 2 station to Permanent Residence    50.0        Expense   \n",
      "7                          2 Place 0 to Place 3    40.0        Expense   \n",
      "53  2 Place 2 to Place 3 : Sevagram express 3AC  1305.4        Expense   \n",
      "54  2 Place 3 to Place 2 : Amritsar express 3AC  1205.4        Expense   \n",
      "\n",
      "   Currency  Clusters  \n",
      "0       INR         4  \n",
      "6       INR         4  \n",
      "7       INR         4  \n",
      "53      INR         4  \n",
      "54      INR         4  \n",
      "Cluster 5\n",
      "                    Date  Mode Category Subcategory                Note  \\\n",
      "21              5/9/2018  Cash  Apparel     Laundry  11 clothes ironing   \n",
      "47   25/08/2018 21:04:46  Cash  Apparel     Laundry  13 clothes ironing   \n",
      "71   14/08/2018 09:48:42  Cash  Apparel     Laundry   8 clothes ironing   \n",
      "101  31/07/2018 21:52:08  Cash  Apparel     Laundry  13 clothes ironing   \n",
      "136  16/07/2018 17:51:56  Cash  Apparel     Laundry  12 clothes ironing   \n",
      "\n",
      "     Amount Income/Expense Currency  Clusters  \n",
      "21     77.0        Expense      INR         5  \n",
      "47     91.0        Expense      INR         5  \n",
      "71     56.0        Expense      INR         5  \n",
      "101    91.0        Expense      INR         5  \n",
      "136    84.0        Expense      INR         5  \n",
      "Cluster 6\n",
      "                    Date                   Mode Category Subcategory  \\\n",
      "84              6/8/2018                   Cash   Beauty    grooming   \n",
      "170             4/7/2018                   Cash   Beauty    grooming   \n",
      "253  28/05/2018 10:41:59                   Cash   Beauty    grooming   \n",
      "296             8/5/2018                   Cash   Beauty    grooming   \n",
      "511  19/02/2018 22:15:12  Saving Bank account 1   Beauty    grooming   \n",
      "\n",
      "                 Note  Amount Income/Expense Currency  Clusters  \n",
      "84           hair cut   100.0        Expense      INR         6  \n",
      "170           Shaving    50.0        Expense      INR         6  \n",
      "253          hair cut   100.0        Expense      INR         6  \n",
      "296           Shaving    50.0        Expense      INR         6  \n",
      "511  hair cut+shaving   170.0        Expense      INR         6  \n",
      "Cluster 7\n",
      "                    Date         Mode Category Subcategory  \\\n",
      "106  30/07/2018 18:44:23         Cash   Health    Medicine   \n",
      "132  20/07/2018 12:29:28         Cash   Health    Medicine   \n",
      "133  20/07/2018 09:11:48  Credit Card   Health    Medicine   \n",
      "144  13/07/2018 09:36:19  Credit Card   Health    Medicine   \n",
      "155             8/7/2018  Credit Card   Health    Medicine   \n",
      "\n",
      "                                          Note  Amount Income/Expense  \\\n",
      "106  Glucose D(50) + flora bc (40)+cyra 20(10)   100.0        Expense   \n",
      "132                          Cataract Medicine    87.0        Expense   \n",
      "133                          Cataract Medicine  1048.0        Expense   \n",
      "144                          Cataract Medicine  1358.0        Expense   \n",
      "155                                   eye drop   153.0        Expense   \n",
      "\n",
      "    Currency  Clusters  \n",
      "106      INR         7  \n",
      "132      INR         7  \n",
      "133      INR         7  \n",
      "144      INR         7  \n",
      "155      INR         7  \n"
     ]
    }
   ],
   "source": [
    "for cluster in range(optimal_clusters):\n",
    "    print(f'Cluster {cluster}')\n",
    "    print(dataset[dataset['Clusters'] == cluster].head())"
   ]
  },
  {
   "cell_type": "code",
   "execution_count": null,
   "id": "801759e1",
   "metadata": {},
   "outputs": [],
   "source": []
  }
 ],
 "metadata": {
  "kernelspec": {
   "display_name": "Python 3 (ipykernel)",
   "language": "python",
   "name": "python3"
  },
  "language_info": {
   "codemirror_mode": {
    "name": "ipython",
    "version": 3
   },
   "file_extension": ".py",
   "mimetype": "text/x-python",
   "name": "python",
   "nbconvert_exporter": "python",
   "pygments_lexer": "ipython3",
   "version": "3.9.7"
  }
 },
 "nbformat": 4,
 "nbformat_minor": 5
}
