{
 "cells": [
  {
   "cell_type": "markdown",
   "metadata": {},
   "source": [
    "## Loading Data & Libraries"
   ]
  },
  {
   "cell_type": "code",
   "execution_count": 1,
   "metadata": {
    "execution": {
     "iopub.execute_input": "2023-12-03T21:23:45.670669Z",
     "iopub.status.busy": "2023-12-03T21:23:45.670324Z",
     "iopub.status.idle": "2023-12-03T21:23:45.679556Z",
     "shell.execute_reply": "2023-12-03T21:23:45.677477Z",
     "shell.execute_reply.started": "2023-12-03T21:23:45.670641Z"
    }
   },
   "outputs": [],
   "source": [
    "# import libraries\n",
    "import pandas as pd\n",
    "import numpy as np\n",
    "import matplotlib.pyplot as plt\n",
    "import seaborn as sns\n",
    "\n",
    "# set style of visualization\n",
    "sns.set_style(\"darkgrid\")\n",
    "sns.set_palette(\"RdBu\")"
   ]
  },
  {
   "cell_type": "code",
   "execution_count": 2,
   "metadata": {
    "execution": {
     "iopub.execute_input": "2023-12-03T21:23:47.119785Z",
     "iopub.status.busy": "2023-12-03T21:23:47.119434Z",
     "iopub.status.idle": "2023-12-03T21:24:10.382153Z",
     "shell.execute_reply": "2023-12-03T21:24:10.380322Z",
     "shell.execute_reply.started": "2023-12-03T21:23:47.119757Z"
    }
   },
   "outputs": [],
   "source": [
    "# read data set\n",
    "\n",
    "data = pd.read_excel(\"Coffee Shop Sales.xlsx\")"
   ]
  },
  {
   "cell_type": "code",
   "execution_count": 3,
   "metadata": {
    "execution": {
     "iopub.execute_input": "2023-12-03T21:24:10.38546Z",
     "iopub.status.busy": "2023-12-03T21:24:10.38472Z",
     "iopub.status.idle": "2023-12-03T21:24:10.402993Z",
     "shell.execute_reply": "2023-12-03T21:24:10.401438Z",
     "shell.execute_reply.started": "2023-12-03T21:24:10.38542Z"
    }
   },
   "outputs": [
    {
     "data": {
      "text/html": [
       "<div>\n",
       "<style scoped>\n",
       "    .dataframe tbody tr th:only-of-type {\n",
       "        vertical-align: middle;\n",
       "    }\n",
       "\n",
       "    .dataframe tbody tr th {\n",
       "        vertical-align: top;\n",
       "    }\n",
       "\n",
       "    .dataframe thead th {\n",
       "        text-align: right;\n",
       "    }\n",
       "</style>\n",
       "<table border=\"1\" class=\"dataframe\">\n",
       "  <thead>\n",
       "    <tr style=\"text-align: right;\">\n",
       "      <th></th>\n",
       "      <th>transaction_id</th>\n",
       "      <th>transaction_date</th>\n",
       "      <th>transaction_time</th>\n",
       "      <th>transaction_qty</th>\n",
       "      <th>store_id</th>\n",
       "      <th>store_location</th>\n",
       "      <th>product_id</th>\n",
       "      <th>unit_price</th>\n",
       "      <th>product_category</th>\n",
       "      <th>product_type</th>\n",
       "      <th>product_detail</th>\n",
       "    </tr>\n",
       "  </thead>\n",
       "  <tbody>\n",
       "    <tr>\n",
       "      <th>0</th>\n",
       "      <td>1</td>\n",
       "      <td>2023-01-01</td>\n",
       "      <td>07:06:11</td>\n",
       "      <td>2</td>\n",
       "      <td>5</td>\n",
       "      <td>Lower Manhattan</td>\n",
       "      <td>32</td>\n",
       "      <td>3.0</td>\n",
       "      <td>Coffee</td>\n",
       "      <td>Gourmet brewed coffee</td>\n",
       "      <td>Ethiopia Rg</td>\n",
       "    </tr>\n",
       "    <tr>\n",
       "      <th>1</th>\n",
       "      <td>2</td>\n",
       "      <td>2023-01-01</td>\n",
       "      <td>07:08:56</td>\n",
       "      <td>2</td>\n",
       "      <td>5</td>\n",
       "      <td>Lower Manhattan</td>\n",
       "      <td>57</td>\n",
       "      <td>3.1</td>\n",
       "      <td>Tea</td>\n",
       "      <td>Brewed Chai tea</td>\n",
       "      <td>Spicy Eye Opener Chai Lg</td>\n",
       "    </tr>\n",
       "    <tr>\n",
       "      <th>2</th>\n",
       "      <td>3</td>\n",
       "      <td>2023-01-01</td>\n",
       "      <td>07:14:04</td>\n",
       "      <td>2</td>\n",
       "      <td>5</td>\n",
       "      <td>Lower Manhattan</td>\n",
       "      <td>59</td>\n",
       "      <td>4.5</td>\n",
       "      <td>Drinking Chocolate</td>\n",
       "      <td>Hot chocolate</td>\n",
       "      <td>Dark chocolate Lg</td>\n",
       "    </tr>\n",
       "    <tr>\n",
       "      <th>3</th>\n",
       "      <td>4</td>\n",
       "      <td>2023-01-01</td>\n",
       "      <td>07:20:24</td>\n",
       "      <td>1</td>\n",
       "      <td>5</td>\n",
       "      <td>Lower Manhattan</td>\n",
       "      <td>22</td>\n",
       "      <td>2.0</td>\n",
       "      <td>Coffee</td>\n",
       "      <td>Drip coffee</td>\n",
       "      <td>Our Old Time Diner Blend Sm</td>\n",
       "    </tr>\n",
       "    <tr>\n",
       "      <th>4</th>\n",
       "      <td>5</td>\n",
       "      <td>2023-01-01</td>\n",
       "      <td>07:22:41</td>\n",
       "      <td>2</td>\n",
       "      <td>5</td>\n",
       "      <td>Lower Manhattan</td>\n",
       "      <td>57</td>\n",
       "      <td>3.1</td>\n",
       "      <td>Tea</td>\n",
       "      <td>Brewed Chai tea</td>\n",
       "      <td>Spicy Eye Opener Chai Lg</td>\n",
       "    </tr>\n",
       "  </tbody>\n",
       "</table>\n",
       "</div>"
      ],
      "text/plain": [
       "   transaction_id transaction_date transaction_time  transaction_qty  \\\n",
       "0               1       2023-01-01         07:06:11                2   \n",
       "1               2       2023-01-01         07:08:56                2   \n",
       "2               3       2023-01-01         07:14:04                2   \n",
       "3               4       2023-01-01         07:20:24                1   \n",
       "4               5       2023-01-01         07:22:41                2   \n",
       "\n",
       "   store_id   store_location  product_id  unit_price    product_category  \\\n",
       "0         5  Lower Manhattan          32         3.0              Coffee   \n",
       "1         5  Lower Manhattan          57         3.1                 Tea   \n",
       "2         5  Lower Manhattan          59         4.5  Drinking Chocolate   \n",
       "3         5  Lower Manhattan          22         2.0              Coffee   \n",
       "4         5  Lower Manhattan          57         3.1                 Tea   \n",
       "\n",
       "            product_type               product_detail  \n",
       "0  Gourmet brewed coffee                  Ethiopia Rg  \n",
       "1        Brewed Chai tea     Spicy Eye Opener Chai Lg  \n",
       "2          Hot chocolate            Dark chocolate Lg  \n",
       "3            Drip coffee  Our Old Time Diner Blend Sm  \n",
       "4        Brewed Chai tea     Spicy Eye Opener Chai Lg  "
      ]
     },
     "execution_count": 3,
     "metadata": {},
     "output_type": "execute_result"
    }
   ],
   "source": [
    "# see top 5 rows\n",
    "\n",
    "data.head()"
   ]
  },
  {
   "cell_type": "code",
   "execution_count": 4,
   "metadata": {
    "execution": {
     "iopub.execute_input": "2023-12-03T21:24:10.404853Z",
     "iopub.status.busy": "2023-12-03T21:24:10.404489Z",
     "iopub.status.idle": "2023-12-03T21:24:10.417709Z",
     "shell.execute_reply": "2023-12-03T21:24:10.416104Z",
     "shell.execute_reply.started": "2023-12-03T21:24:10.404824Z"
    }
   },
   "outputs": [
    {
     "data": {
      "text/plain": [
       "(149116, 11)"
      ]
     },
     "execution_count": 4,
     "metadata": {},
     "output_type": "execute_result"
    }
   ],
   "source": [
    "# see number of rows and columns\n",
    "\n",
    "data.shape"
   ]
  },
  {
   "cell_type": "code",
   "execution_count": 5,
   "metadata": {
    "execution": {
     "iopub.execute_input": "2023-12-03T21:24:10.420752Z",
     "iopub.status.busy": "2023-12-03T21:24:10.420409Z",
     "iopub.status.idle": "2023-12-03T21:24:10.471788Z",
     "shell.execute_reply": "2023-12-03T21:24:10.4707Z",
     "shell.execute_reply.started": "2023-12-03T21:24:10.420725Z"
    }
   },
   "outputs": [
    {
     "data": {
      "text/plain": [
       "transaction_id      0\n",
       "transaction_date    0\n",
       "transaction_time    0\n",
       "transaction_qty     0\n",
       "store_id            0\n",
       "store_location      0\n",
       "product_id          0\n",
       "unit_price          0\n",
       "product_category    0\n",
       "product_type        0\n",
       "product_detail      0\n",
       "dtype: int64"
      ]
     },
     "execution_count": 5,
     "metadata": {},
     "output_type": "execute_result"
    }
   ],
   "source": [
    "# check missing values\n",
    "\n",
    "data.isna().sum()"
   ]
  },
  {
   "cell_type": "code",
   "execution_count": 6,
   "metadata": {
    "execution": {
     "iopub.execute_input": "2023-12-03T21:24:10.473442Z",
     "iopub.status.busy": "2023-12-03T21:24:10.473115Z",
     "iopub.status.idle": "2023-12-03T21:24:10.51483Z",
     "shell.execute_reply": "2023-12-03T21:24:10.514088Z",
     "shell.execute_reply.started": "2023-12-03T21:24:10.473379Z"
    }
   },
   "outputs": [
    {
     "name": "stdout",
     "output_type": "stream",
     "text": [
      "<class 'pandas.core.frame.DataFrame'>\n",
      "RangeIndex: 149116 entries, 0 to 149115\n",
      "Data columns (total 11 columns):\n",
      " #   Column            Non-Null Count   Dtype         \n",
      "---  ------            --------------   -----         \n",
      " 0   transaction_id    149116 non-null  int64         \n",
      " 1   transaction_date  149116 non-null  datetime64[ns]\n",
      " 2   transaction_time  149116 non-null  object        \n",
      " 3   transaction_qty   149116 non-null  int64         \n",
      " 4   store_id          149116 non-null  int64         \n",
      " 5   store_location    149116 non-null  object        \n",
      " 6   product_id        149116 non-null  int64         \n",
      " 7   unit_price        149116 non-null  float64       \n",
      " 8   product_category  149116 non-null  object        \n",
      " 9   product_type      149116 non-null  object        \n",
      " 10  product_detail    149116 non-null  object        \n",
      "dtypes: datetime64[ns](1), float64(1), int64(4), object(5)\n",
      "memory usage: 12.5+ MB\n"
     ]
    }
   ],
   "source": [
    "# see quick info\n",
    "\n",
    "data.info()"
   ]
  },
  {
   "cell_type": "code",
   "execution_count": 7,
   "metadata": {
    "execution": {
     "iopub.execute_input": "2023-12-03T21:24:10.517012Z",
     "iopub.status.busy": "2023-12-03T21:24:10.515682Z",
     "iopub.status.idle": "2023-12-03T21:24:10.60834Z",
     "shell.execute_reply": "2023-12-03T21:24:10.606766Z",
     "shell.execute_reply.started": "2023-12-03T21:24:10.516959Z"
    }
   },
   "outputs": [
    {
     "data": {
      "text/plain": [
       "False"
      ]
     },
     "execution_count": 7,
     "metadata": {},
     "output_type": "execute_result"
    }
   ],
   "source": [
    "# check duplicated rows\n",
    "\n",
    "data.duplicated().any()"
   ]
  },
  {
   "cell_type": "code",
   "execution_count": 8,
   "metadata": {
    "execution": {
     "iopub.execute_input": "2023-12-03T21:24:10.610145Z",
     "iopub.status.busy": "2023-12-03T21:24:10.609817Z",
     "iopub.status.idle": "2023-12-03T21:24:10.718016Z",
     "shell.execute_reply": "2023-12-03T21:24:10.716388Z",
     "shell.execute_reply.started": "2023-12-03T21:24:10.610117Z"
    }
   },
   "outputs": [
    {
     "data": {
      "text/html": [
       "<div>\n",
       "<style scoped>\n",
       "    .dataframe tbody tr th:only-of-type {\n",
       "        vertical-align: middle;\n",
       "    }\n",
       "\n",
       "    .dataframe tbody tr th {\n",
       "        vertical-align: top;\n",
       "    }\n",
       "\n",
       "    .dataframe thead th {\n",
       "        text-align: right;\n",
       "    }\n",
       "</style>\n",
       "<table border=\"1\" class=\"dataframe\">\n",
       "  <thead>\n",
       "    <tr style=\"text-align: right;\">\n",
       "      <th></th>\n",
       "      <th>Column _name</th>\n",
       "      <th>Uniue values</th>\n",
       "    </tr>\n",
       "  </thead>\n",
       "  <tbody>\n",
       "    <tr>\n",
       "      <th>0</th>\n",
       "      <td>transaction_id</td>\n",
       "      <td>149116</td>\n",
       "    </tr>\n",
       "    <tr>\n",
       "      <th>1</th>\n",
       "      <td>transaction_date</td>\n",
       "      <td>181</td>\n",
       "    </tr>\n",
       "    <tr>\n",
       "      <th>2</th>\n",
       "      <td>transaction_time</td>\n",
       "      <td>25762</td>\n",
       "    </tr>\n",
       "    <tr>\n",
       "      <th>3</th>\n",
       "      <td>transaction_qty</td>\n",
       "      <td>6</td>\n",
       "    </tr>\n",
       "    <tr>\n",
       "      <th>4</th>\n",
       "      <td>store_id</td>\n",
       "      <td>3</td>\n",
       "    </tr>\n",
       "    <tr>\n",
       "      <th>5</th>\n",
       "      <td>store_location</td>\n",
       "      <td>3</td>\n",
       "    </tr>\n",
       "    <tr>\n",
       "      <th>6</th>\n",
       "      <td>product_id</td>\n",
       "      <td>80</td>\n",
       "    </tr>\n",
       "    <tr>\n",
       "      <th>7</th>\n",
       "      <td>unit_price</td>\n",
       "      <td>41</td>\n",
       "    </tr>\n",
       "    <tr>\n",
       "      <th>8</th>\n",
       "      <td>product_category</td>\n",
       "      <td>9</td>\n",
       "    </tr>\n",
       "    <tr>\n",
       "      <th>9</th>\n",
       "      <td>product_type</td>\n",
       "      <td>29</td>\n",
       "    </tr>\n",
       "    <tr>\n",
       "      <th>10</th>\n",
       "      <td>product_detail</td>\n",
       "      <td>80</td>\n",
       "    </tr>\n",
       "  </tbody>\n",
       "</table>\n",
       "</div>"
      ],
      "text/plain": [
       "        Column _name  Uniue values\n",
       "0     transaction_id        149116\n",
       "1   transaction_date           181\n",
       "2   transaction_time         25762\n",
       "3    transaction_qty             6\n",
       "4           store_id             3\n",
       "5     store_location             3\n",
       "6         product_id            80\n",
       "7         unit_price            41\n",
       "8   product_category             9\n",
       "9       product_type            29\n",
       "10    product_detail            80"
      ]
     },
     "execution_count": 8,
     "metadata": {},
     "output_type": "execute_result"
    }
   ],
   "source": [
    "# see unique values in each column\n",
    "\n",
    "# 1- create new data frame with number of unique value in each column\n",
    "columnValue = data.nunique().reset_index()\n",
    "\n",
    "# 2- rename column name \n",
    "columnValue.rename(columns = {\"index\" : \"Column _name\", 0 : \"Uniue values\"}, inplace = True)\n",
    "\n",
    "# 3- see columns and number of unique values of each\n",
    "columnValue"
   ]
  },
  {
   "cell_type": "code",
   "execution_count": 9,
   "metadata": {
    "execution": {
     "iopub.execute_input": "2023-12-03T21:24:10.719994Z",
     "iopub.status.busy": "2023-12-03T21:24:10.719678Z",
     "iopub.status.idle": "2023-12-03T21:24:10.763203Z",
     "shell.execute_reply": "2023-12-03T21:24:10.761921Z",
     "shell.execute_reply.started": "2023-12-03T21:24:10.719967Z"
    }
   },
   "outputs": [
    {
     "data": {
      "text/html": [
       "<div>\n",
       "<style scoped>\n",
       "    .dataframe tbody tr th:only-of-type {\n",
       "        vertical-align: middle;\n",
       "    }\n",
       "\n",
       "    .dataframe tbody tr th {\n",
       "        vertical-align: top;\n",
       "    }\n",
       "\n",
       "    .dataframe thead th {\n",
       "        text-align: right;\n",
       "    }\n",
       "</style>\n",
       "<table border=\"1\" class=\"dataframe\">\n",
       "  <thead>\n",
       "    <tr style=\"text-align: right;\">\n",
       "      <th></th>\n",
       "      <th>transaction_id</th>\n",
       "      <th>transaction_qty</th>\n",
       "      <th>store_id</th>\n",
       "      <th>product_id</th>\n",
       "      <th>unit_price</th>\n",
       "    </tr>\n",
       "  </thead>\n",
       "  <tbody>\n",
       "    <tr>\n",
       "      <th>count</th>\n",
       "      <td>149116.000000</td>\n",
       "      <td>149116.000000</td>\n",
       "      <td>149116.000000</td>\n",
       "      <td>149116.000000</td>\n",
       "      <td>149116.000000</td>\n",
       "    </tr>\n",
       "    <tr>\n",
       "      <th>mean</th>\n",
       "      <td>74737.371872</td>\n",
       "      <td>1.438276</td>\n",
       "      <td>5.342063</td>\n",
       "      <td>47.918607</td>\n",
       "      <td>3.382219</td>\n",
       "    </tr>\n",
       "    <tr>\n",
       "      <th>std</th>\n",
       "      <td>43153.600016</td>\n",
       "      <td>0.542509</td>\n",
       "      <td>2.074241</td>\n",
       "      <td>17.930020</td>\n",
       "      <td>2.658723</td>\n",
       "    </tr>\n",
       "    <tr>\n",
       "      <th>min</th>\n",
       "      <td>1.000000</td>\n",
       "      <td>1.000000</td>\n",
       "      <td>3.000000</td>\n",
       "      <td>1.000000</td>\n",
       "      <td>0.800000</td>\n",
       "    </tr>\n",
       "    <tr>\n",
       "      <th>25%</th>\n",
       "      <td>37335.750000</td>\n",
       "      <td>1.000000</td>\n",
       "      <td>3.000000</td>\n",
       "      <td>33.000000</td>\n",
       "      <td>2.500000</td>\n",
       "    </tr>\n",
       "    <tr>\n",
       "      <th>50%</th>\n",
       "      <td>74727.500000</td>\n",
       "      <td>1.000000</td>\n",
       "      <td>5.000000</td>\n",
       "      <td>47.000000</td>\n",
       "      <td>3.000000</td>\n",
       "    </tr>\n",
       "    <tr>\n",
       "      <th>75%</th>\n",
       "      <td>112094.250000</td>\n",
       "      <td>2.000000</td>\n",
       "      <td>8.000000</td>\n",
       "      <td>60.000000</td>\n",
       "      <td>3.750000</td>\n",
       "    </tr>\n",
       "    <tr>\n",
       "      <th>max</th>\n",
       "      <td>149456.000000</td>\n",
       "      <td>8.000000</td>\n",
       "      <td>8.000000</td>\n",
       "      <td>87.000000</td>\n",
       "      <td>45.000000</td>\n",
       "    </tr>\n",
       "  </tbody>\n",
       "</table>\n",
       "</div>"
      ],
      "text/plain": [
       "       transaction_id  transaction_qty       store_id     product_id  \\\n",
       "count   149116.000000    149116.000000  149116.000000  149116.000000   \n",
       "mean     74737.371872         1.438276       5.342063      47.918607   \n",
       "std      43153.600016         0.542509       2.074241      17.930020   \n",
       "min          1.000000         1.000000       3.000000       1.000000   \n",
       "25%      37335.750000         1.000000       3.000000      33.000000   \n",
       "50%      74727.500000         1.000000       5.000000      47.000000   \n",
       "75%     112094.250000         2.000000       8.000000      60.000000   \n",
       "max     149456.000000         8.000000       8.000000      87.000000   \n",
       "\n",
       "          unit_price  \n",
       "count  149116.000000  \n",
       "mean        3.382219  \n",
       "std         2.658723  \n",
       "min         0.800000  \n",
       "25%         2.500000  \n",
       "50%         3.000000  \n",
       "75%         3.750000  \n",
       "max        45.000000  "
      ]
     },
     "execution_count": 9,
     "metadata": {},
     "output_type": "execute_result"
    }
   ],
   "source": [
    "# See quick info of numeric data\n",
    "\n",
    "data.describe()"
   ]
  },
  {
   "cell_type": "code",
   "execution_count": 10,
   "metadata": {
    "execution": {
     "iopub.execute_input": "2023-12-03T21:24:52.443142Z",
     "iopub.status.busy": "2023-12-03T21:24:52.442683Z",
     "iopub.status.idle": "2023-12-03T21:24:52.574328Z",
     "shell.execute_reply": "2023-12-03T21:24:52.572376Z",
     "shell.execute_reply.started": "2023-12-03T21:24:52.443107Z"
    }
   },
   "outputs": [
    {
     "data": {
      "text/html": [
       "<div>\n",
       "<style scoped>\n",
       "    .dataframe tbody tr th:only-of-type {\n",
       "        vertical-align: middle;\n",
       "    }\n",
       "\n",
       "    .dataframe tbody tr th {\n",
       "        vertical-align: top;\n",
       "    }\n",
       "\n",
       "    .dataframe thead th {\n",
       "        text-align: right;\n",
       "    }\n",
       "</style>\n",
       "<table border=\"1\" class=\"dataframe\">\n",
       "  <thead>\n",
       "    <tr style=\"text-align: right;\">\n",
       "      <th></th>\n",
       "      <th>transaction_time</th>\n",
       "      <th>store_location</th>\n",
       "      <th>product_category</th>\n",
       "      <th>product_type</th>\n",
       "      <th>product_detail</th>\n",
       "    </tr>\n",
       "  </thead>\n",
       "  <tbody>\n",
       "    <tr>\n",
       "      <th>count</th>\n",
       "      <td>149116</td>\n",
       "      <td>149116</td>\n",
       "      <td>149116</td>\n",
       "      <td>149116</td>\n",
       "      <td>149116</td>\n",
       "    </tr>\n",
       "    <tr>\n",
       "      <th>unique</th>\n",
       "      <td>25762</td>\n",
       "      <td>3</td>\n",
       "      <td>9</td>\n",
       "      <td>29</td>\n",
       "      <td>80</td>\n",
       "    </tr>\n",
       "    <tr>\n",
       "      <th>top</th>\n",
       "      <td>09:31:15</td>\n",
       "      <td>Hell's Kitchen</td>\n",
       "      <td>Coffee</td>\n",
       "      <td>Brewed Chai tea</td>\n",
       "      <td>Chocolate Croissant</td>\n",
       "    </tr>\n",
       "    <tr>\n",
       "      <th>freq</th>\n",
       "      <td>41</td>\n",
       "      <td>50735</td>\n",
       "      <td>58416</td>\n",
       "      <td>17183</td>\n",
       "      <td>3076</td>\n",
       "    </tr>\n",
       "  </tbody>\n",
       "</table>\n",
       "</div>"
      ],
      "text/plain": [
       "       transaction_time  store_location product_category     product_type  \\\n",
       "count            149116          149116           149116           149116   \n",
       "unique            25762               3                9               29   \n",
       "top            09:31:15  Hell's Kitchen           Coffee  Brewed Chai tea   \n",
       "freq                 41           50735            58416            17183   \n",
       "\n",
       "             product_detail  \n",
       "count                149116  \n",
       "unique                   80  \n",
       "top     Chocolate Croissant  \n",
       "freq                   3076  "
      ]
     },
     "execution_count": 10,
     "metadata": {},
     "output_type": "execute_result"
    }
   ],
   "source": [
    "# see quick info of categorical data\n",
    "\n",
    "data.describe(include = object)"
   ]
  },
  {
   "cell_type": "code",
   "execution_count": 11,
   "metadata": {
    "execution": {
     "iopub.execute_input": "2023-12-03T21:24:52.887941Z",
     "iopub.status.busy": "2023-12-03T21:24:52.887551Z",
     "iopub.status.idle": "2023-12-03T21:24:52.904834Z",
     "shell.execute_reply": "2023-12-03T21:24:52.903203Z",
     "shell.execute_reply.started": "2023-12-03T21:24:52.887908Z"
    }
   },
   "outputs": [],
   "source": [
    "# drop some columns such as \"product_id\", \"transaction_id\" and \"store_id\"\n",
    "\n",
    "data.drop(columns = [\"transaction_id\", \"store_id\", \"product_id\"], inplace = True)"
   ]
  },
  {
   "cell_type": "markdown",
   "metadata": {},
   "source": [
    "## Univariate Analysis & Visualizations 📊📉"
   ]
  },
  {
   "cell_type": "code",
   "execution_count": 12,
   "metadata": {
    "execution": {
     "iopub.execute_input": "2023-12-03T21:24:53.755618Z",
     "iopub.status.busy": "2023-12-03T21:24:53.755166Z",
     "iopub.status.idle": "2023-12-03T21:24:53.765677Z",
     "shell.execute_reply": "2023-12-03T21:24:53.763815Z",
     "shell.execute_reply.started": "2023-12-03T21:24:53.755584Z"
    }
   },
   "outputs": [],
   "source": [
    "# create function to visualized categorical column using count plot\n",
    "\n",
    "def count_plot(x_axis = None, y_axis = None, hue = None, rotation = 0, top = None):\n",
    "    \"\"\"\n",
    "    1) input : x_axis, column name, data type must be object or categorical\n",
    "    3) output : cout plot using seaborn modules, unique values in x-axis and frequency in y-axis\n",
    "    4) use bar_label to show frequency of each unique values above each column in graph\n",
    "    5) top parameter i use it to specify indexes i want to see it\n",
    "    \"\"\"\n",
    "    if x_axis: # if we neet to visualized in x-axis\n",
    "        order = data[x_axis].value_counts().iloc[:top].index\n",
    "        \n",
    "    else : # if we neet to visualized in y-axis\n",
    "        order = data[y_axis].value_counts().iloc[:top].index\n",
    "        \n",
    "    graph = sns.countplot(x = x_axis, y = y_axis, data = data, hue = hue, order = order, palette = \"RdBu\")\n",
    "    for container in graph.containers:\n",
    "        graph.bar_label(container)\n",
    "        \n",
    "        \n",
    "    plt.xticks(rotation = rotation)\n",
    "    plt.show()"
   ]
  },
  {
   "cell_type": "code",
   "execution_count": 13,
   "metadata": {
    "execution": {
     "iopub.execute_input": "2023-12-03T21:24:54.259902Z",
     "iopub.status.busy": "2023-12-03T21:24:54.259522Z",
     "iopub.status.idle": "2023-12-03T21:24:54.267625Z",
     "shell.execute_reply": "2023-12-03T21:24:54.265555Z",
     "shell.execute_reply.started": "2023-12-03T21:24:54.259869Z"
    }
   },
   "outputs": [],
   "source": [
    "# create function that visualized categorical column using pie plot\n",
    "\n",
    "def pie_plot(column_name, explodeIndex = None):\n",
    "    \"\"\"\n",
    "    1) input : column name, column data type must be object or categorical\n",
    "    2) explodeIndex, is the index i need to explode it \n",
    "    2) output : circle chart that shows size of each unique values and percentage \n",
    "    \"\"\"\n",
    "    # Create explode list with zeros of size equal to the number of unique values\n",
    "    explodeList = [0] * data[column_name].nunique()\n",
    "    \n",
    "    # Check and set explodeIndex value \n",
    "    if explodeIndex is not None:\n",
    "        explodeList[explodeIndex] = 0.1\n",
    "    \n",
    "    # Create pie plot\n",
    "    plt.pie(data[column_name].value_counts(), labels = data[column_name].value_counts().index, shadow = True, autopct = \"%1.1f%%\",  explode = explodeList)\n",
    "    plt.show()"
   ]
  },
  {
   "cell_type": "markdown",
   "metadata": {},
   "source": [
    "### Discovering `transaction_date` column"
   ]
  },
  {
   "cell_type": "code",
   "execution_count": 14,
   "metadata": {
    "execution": {
     "iopub.execute_input": "2023-12-03T21:24:55.141469Z",
     "iopub.status.busy": "2023-12-03T21:24:55.141066Z",
     "iopub.status.idle": "2023-12-03T21:24:55.14908Z",
     "shell.execute_reply": "2023-12-03T21:24:55.148313Z",
     "shell.execute_reply.started": "2023-12-03T21:24:55.141436Z"
    }
   },
   "outputs": [
    {
     "data": {
      "text/plain": [
       "array(['2023-01-01T00:00:00.000000000', '2023-01-02T00:00:00.000000000',\n",
       "       '2023-01-03T00:00:00.000000000', '2023-01-04T00:00:00.000000000',\n",
       "       '2023-01-05T00:00:00.000000000', '2023-01-06T00:00:00.000000000',\n",
       "       '2023-01-07T00:00:00.000000000', '2023-01-08T00:00:00.000000000',\n",
       "       '2023-01-09T00:00:00.000000000', '2023-01-10T00:00:00.000000000',\n",
       "       '2023-01-11T00:00:00.000000000', '2023-01-12T00:00:00.000000000',\n",
       "       '2023-01-13T00:00:00.000000000', '2023-01-14T00:00:00.000000000',\n",
       "       '2023-01-15T00:00:00.000000000', '2023-01-16T00:00:00.000000000',\n",
       "       '2023-01-17T00:00:00.000000000', '2023-01-18T00:00:00.000000000',\n",
       "       '2023-01-19T00:00:00.000000000', '2023-01-20T00:00:00.000000000',\n",
       "       '2023-01-21T00:00:00.000000000', '2023-01-22T00:00:00.000000000',\n",
       "       '2023-01-23T00:00:00.000000000', '2023-01-24T00:00:00.000000000',\n",
       "       '2023-01-25T00:00:00.000000000'], dtype='datetime64[ns]')"
      ]
     },
     "execution_count": 14,
     "metadata": {},
     "output_type": "execute_result"
    }
   ],
   "source": [
    "# see unique value \n",
    "\n",
    "data[\"transaction_date\"].unique()[:25]"
   ]
  },
  {
   "cell_type": "markdown",
   "metadata": {},
   "source": [
    "**🧩📝 Extract some information such as `year , month and day`**"
   ]
  },
  {
   "cell_type": "code",
   "execution_count": 15,
   "metadata": {
    "execution": {
     "iopub.execute_input": "2023-12-03T21:24:56.000675Z",
     "iopub.status.busy": "2023-12-03T21:24:56.000132Z",
     "iopub.status.idle": "2023-12-03T21:24:56.07084Z",
     "shell.execute_reply": "2023-12-03T21:24:56.069153Z",
     "shell.execute_reply.started": "2023-12-03T21:24:56.000637Z"
    }
   },
   "outputs": [],
   "source": [
    "# add new column year\n",
    "data[\"year\"] = data[\"transaction_date\"].dt.year\n",
    "\n",
    "# add new column month\n",
    "data[\"month\"] = data[\"transaction_date\"].dt.month_name()\n",
    "\n",
    "# add new column day\n",
    "data[\"day\"] = data[\"transaction_date\"].dt.day_name()"
   ]
  },
  {
   "cell_type": "markdown",
   "metadata": {},
   "source": [
    "**Discovering this columns 📉🎛️**"
   ]
  },
  {
   "cell_type": "code",
   "execution_count": 16,
   "metadata": {
    "execution": {
     "iopub.execute_input": "2023-12-03T21:24:56.880696Z",
     "iopub.status.busy": "2023-12-03T21:24:56.88035Z",
     "iopub.status.idle": "2023-12-03T21:24:56.891915Z",
     "shell.execute_reply": "2023-12-03T21:24:56.890613Z",
     "shell.execute_reply.started": "2023-12-03T21:24:56.880667Z"
    }
   },
   "outputs": [
    {
     "data": {
      "text/plain": [
       "array([2023], dtype=int64)"
      ]
     },
     "execution_count": 16,
     "metadata": {},
     "output_type": "execute_result"
    }
   ],
   "source": [
    "# see unique values of year column\n",
    "\n",
    "data[\"year\"].unique()"
   ]
  },
  {
   "cell_type": "markdown",
   "metadata": {},
   "source": [
    "**📝Sales exclusively from 2023.**"
   ]
  },
  {
   "cell_type": "code",
   "execution_count": 17,
   "metadata": {
    "execution": {
     "iopub.execute_input": "2023-12-03T21:24:59.464366Z",
     "iopub.status.busy": "2023-12-03T21:24:59.464009Z",
     "iopub.status.idle": "2023-12-03T21:24:59.487197Z",
     "shell.execute_reply": "2023-12-03T21:24:59.486471Z",
     "shell.execute_reply.started": "2023-12-03T21:24:59.464338Z"
    }
   },
   "outputs": [
    {
     "data": {
      "text/plain": [
       "array(['January', 'February', 'March', 'April', 'May', 'June'],\n",
       "      dtype=object)"
      ]
     },
     "execution_count": 17,
     "metadata": {},
     "output_type": "execute_result"
    }
   ],
   "source": [
    "# see unique values of month column\n",
    "\n",
    "data[\"month\"].unique()"
   ]
  },
  {
   "cell_type": "code",
   "execution_count": 18,
   "metadata": {
    "execution": {
     "iopub.execute_input": "2023-12-03T21:24:59.502747Z",
     "iopub.status.busy": "2023-12-03T21:24:59.502367Z",
     "iopub.status.idle": "2023-12-03T21:24:59.805716Z",
     "shell.execute_reply": "2023-12-03T21:24:59.80468Z",
     "shell.execute_reply.started": "2023-12-03T21:24:59.50272Z"
    }
   },
   "outputs": [
    {
     "data": {
      "image/png": "[encoded data removed]",
      "text/plain": [
       "<Figure size 432x288 with 1 Axes>"
      ]
     },
     "metadata": {},
     "output_type": "display_data"
    }
   ],
   "source": [
    "# see number of transaction in each month\n",
    "\n",
    "count_plot(x_axis = \"month\") # call function i create it in cell 12"
   ]
  },
  {
   "cell_type": "markdown",
   "metadata": {},
   "source": [
    "**📝 Most sales within a six-month period**"
   ]
  },
  {
   "cell_type": "code",
   "execution_count": 19,
   "metadata": {
    "execution": {
     "iopub.execute_input": "2023-12-03T21:24:59.80775Z",
     "iopub.status.busy": "2023-12-03T21:24:59.807311Z",
     "iopub.status.idle": "2023-12-03T21:24:59.826346Z",
     "shell.execute_reply": "2023-12-03T21:24:59.825162Z",
     "shell.execute_reply.started": "2023-12-03T21:24:59.807722Z"
    }
   },
   "outputs": [
    {
     "data": {
      "text/plain": [
       "array(['Sunday', 'Monday', 'Tuesday', 'Wednesday', 'Thursday', 'Friday',\n",
       "       'Saturday'], dtype=object)"
      ]
     },
     "execution_count": 19,
     "metadata": {},
     "output_type": "execute_result"
    }
   ],
   "source": [
    "data[\"day\"].unique()"
   ]
  },
  {
   "cell_type": "code",
   "execution_count": 20,
   "metadata": {
    "execution": {
     "iopub.execute_input": "2023-12-03T21:24:59.828368Z",
     "iopub.status.busy": "2023-12-03T21:24:59.827782Z",
     "iopub.status.idle": "2023-12-03T21:25:00.132193Z",
     "shell.execute_reply": "2023-12-03T21:25:00.130808Z",
     "shell.execute_reply.started": "2023-12-03T21:24:59.828334Z"
    }
   },
   "outputs": [
    {
     "data": {
      "image/png": "[encoded data removed]",
      "text/plain": [
       "<Figure size 720x432 with 1 Axes>"
      ]
     },
     "metadata": {},
     "output_type": "display_data"
    }
   ],
   "source": [
    "# see top 5 day of transaction\n",
    "\n",
    "# set figure size\n",
    "plt.figure(figsize = (10,6))\n",
    "\n",
    "# call function i create it in cell 12\n",
    "count_plot(x_axis = \"day\")"
   ]
  },
  {
   "cell_type": "code",
   "execution_count": 21,
   "metadata": {
    "execution": {
     "iopub.execute_input": "2023-12-03T21:25:00.135582Z",
     "iopub.status.busy": "2023-12-03T21:25:00.135169Z",
     "iopub.status.idle": "2023-12-03T21:25:00.161002Z",
     "shell.execute_reply": "2023-12-03T21:25:00.159336Z",
     "shell.execute_reply.started": "2023-12-03T21:25:00.13555Z"
    }
   },
   "outputs": [],
   "source": [
    "# now i will drop  \"transaction_date\" column\n",
    "\n",
    "data.drop(columns = \"transaction_date\", inplace = True)"
   ]
  },
  {
   "cell_type": "markdown",
   "metadata": {},
   "source": [
    "### Discovering `transaction_time` column"
   ]
  },
  {
   "cell_type": "code",
   "execution_count": 22,
   "metadata": {
    "execution": {
     "iopub.execute_input": "2023-12-03T21:25:00.16336Z",
     "iopub.status.busy": "2023-12-03T21:25:00.162908Z",
     "iopub.status.idle": "2023-12-03T21:25:00.191163Z",
     "shell.execute_reply": "2023-12-03T21:25:00.189678Z",
     "shell.execute_reply.started": "2023-12-03T21:25:00.163323Z"
    }
   },
   "outputs": [
    {
     "data": {
      "text/plain": [
       "array([datetime.time(7, 6, 11), datetime.time(7, 8, 56),\n",
       "       datetime.time(7, 14, 4), datetime.time(7, 20, 24),\n",
       "       datetime.time(7, 22, 41), datetime.time(7, 25, 49),\n",
       "       datetime.time(7, 33, 34), datetime.time(7, 39, 13),\n",
       "       datetime.time(7, 39, 34), datetime.time(7, 43, 5),\n",
       "       datetime.time(7, 44, 35), datetime.time(7, 45, 51),\n",
       "       datetime.time(7, 48, 19), datetime.time(7, 52, 36),\n",
       "       datetime.time(7, 59, 58), datetime.time(8, 0, 18),\n",
       "       datetime.time(8, 0, 39), datetime.time(8, 11, 45),\n",
       "       datetime.time(8, 17, 27), datetime.time(8, 24, 26),\n",
       "       datetime.time(8, 29, 38), datetime.time(8, 31, 23),\n",
       "       datetime.time(8, 33, 8), datetime.time(8, 35, 3),\n",
       "       datetime.time(8, 41, 57), datetime.time(8, 52, 3),\n",
       "       datetime.time(8, 52, 32), datetime.time(8, 54, 33),\n",
       "       datetime.time(8, 56, 27), datetime.time(8, 57, 46),\n",
       "       datetime.time(8, 58, 55), datetime.time(9, 0, 12),\n",
       "       datetime.time(9, 0, 24), datetime.time(9, 7, 13),\n",
       "       datetime.time(9, 8, 9), datetime.time(9, 8, 13),\n",
       "       datetime.time(9, 10, 30), datetime.time(9, 11, 6),\n",
       "       datetime.time(9, 13, 1), datetime.time(9, 13, 15),\n",
       "       datetime.time(9, 14, 16), datetime.time(9, 14, 17),\n",
       "       datetime.time(9, 14, 25), datetime.time(9, 14, 41),\n",
       "       datetime.time(9, 15, 9), datetime.time(9, 15, 13),\n",
       "       datetime.time(9, 19, 21), datetime.time(9, 19, 26),\n",
       "       datetime.time(9, 21, 8), datetime.time(9, 22, 17)], dtype=object)"
      ]
     },
     "execution_count": 22,
     "metadata": {},
     "output_type": "execute_result"
    }
   ],
   "source": [
    "# see unique values\n",
    "\n",
    "data[\"transaction_time\"].unique()[:50]"
   ]
  },
  {
   "cell_type": "markdown",
   "metadata": {},
   "source": [
    "**🧩📝 Extract some information such as `hour`**"
   ]
  },
  {
   "cell_type": "code",
   "execution_count": 23,
   "metadata": {
    "execution": {
     "iopub.execute_input": "2023-12-03T21:25:00.193603Z",
     "iopub.status.busy": "2023-12-03T21:25:00.192729Z",
     "iopub.status.idle": "2023-12-03T21:25:00.260784Z",
     "shell.execute_reply": "2023-12-03T21:25:00.259186Z",
     "shell.execute_reply.started": "2023-12-03T21:25:00.19355Z"
    }
   },
   "outputs": [],
   "source": [
    "# add new column hour \n",
    "\n",
    "data[\"hour\"] = data[\"transaction_time\"].apply(lambda x : x.hour)"
   ]
  },
  {
   "cell_type": "code",
   "execution_count": 24,
   "metadata": {
    "execution": {
     "iopub.execute_input": "2023-12-03T21:25:02.173317Z",
     "iopub.status.busy": "2023-12-03T21:25:02.172875Z",
     "iopub.status.idle": "2023-12-03T21:25:02.882801Z",
     "shell.execute_reply": "2023-12-03T21:25:02.88134Z",
     "shell.execute_reply.started": "2023-12-03T21:25:02.173285Z"
    }
   },
   "outputs": [
    {
     "data": {
      "image/png": "[encoded data removed]",
      "text/plain": [
       "<Figure size 432x288 with 1 Axes>"
      ]
     },
     "metadata": {},
     "output_type": "display_data"
    }
   ],
   "source": [
    "# see distribution\n",
    "\n",
    "sns.kdeplot(data[\"hour\"])\n",
    "plt.show()"
   ]
  },
  {
   "cell_type": "markdown",
   "metadata": {},
   "source": [
    "**📝 Most sales were from 8 am to 11 pm**"
   ]
  },
  {
   "cell_type": "code",
   "execution_count": 25,
   "metadata": {
    "execution": {
     "iopub.execute_input": "2023-12-03T21:25:02.884992Z",
     "iopub.status.busy": "2023-12-03T21:25:02.884684Z",
     "iopub.status.idle": "2023-12-03T21:25:02.909074Z",
     "shell.execute_reply": "2023-12-03T21:25:02.907395Z",
     "shell.execute_reply.started": "2023-12-03T21:25:02.884964Z"
    }
   },
   "outputs": [],
   "source": [
    "# now i will drop  \"transaction_date\" column\n",
    "\n",
    "data.drop(columns = \"transaction_time\", inplace = True)"
   ]
  },
  {
   "cell_type": "markdown",
   "metadata": {},
   "source": [
    "### Discovering `transaction_qty` column"
   ]
  },
  {
   "cell_type": "code",
   "execution_count": 26,
   "metadata": {
    "execution": {
     "iopub.execute_input": "2023-12-03T21:25:02.911497Z",
     "iopub.status.busy": "2023-12-03T21:25:02.911135Z",
     "iopub.status.idle": "2023-12-03T21:25:02.919943Z",
     "shell.execute_reply": "2023-12-03T21:25:02.918201Z",
     "shell.execute_reply.started": "2023-12-03T21:25:02.911465Z"
    }
   },
   "outputs": [
    {
     "data": {
      "text/plain": [
       "array([2, 1, 3, 4, 8, 6], dtype=int64)"
      ]
     },
     "execution_count": 26,
     "metadata": {},
     "output_type": "execute_result"
    }
   ],
   "source": [
    "# see unique values \n",
    "\n",
    "data[\"transaction_qty\"].unique()"
   ]
  },
  {
   "cell_type": "code",
   "execution_count": 27,
   "metadata": {
    "execution": {
     "iopub.execute_input": "2023-12-03T21:25:02.923293Z",
     "iopub.status.busy": "2023-12-03T21:25:02.922758Z",
     "iopub.status.idle": "2023-12-03T21:25:03.145134Z",
     "shell.execute_reply": "2023-12-03T21:25:03.143533Z",
     "shell.execute_reply.started": "2023-12-03T21:25:02.923217Z"
    }
   },
   "outputs": [
    {
     "data": {
      "image/png": "[encoded data removed]",
      "text/plain": [
       "<Figure size 432x288 with 1 Axes>"
      ]
     },
     "metadata": {},
     "output_type": "display_data"
    }
   ],
   "source": [
    "# see number of sales quantity  \n",
    "\n",
    "count_plot(x_axis = \"transaction_qty\") # call function i create it in cell 12"
   ]
  },
  {
   "cell_type": "markdown",
   "metadata": {},
   "source": [
    "**📝Most sales were singles followed by 2 lots**"
   ]
  },
  {
   "cell_type": "markdown",
   "metadata": {},
   "source": [
    "### Discovering `store_location` column"
   ]
  },
  {
   "cell_type": "code",
   "execution_count": 28,
   "metadata": {
    "execution": {
     "iopub.execute_input": "2023-12-03T21:25:03.147583Z",
     "iopub.status.busy": "2023-12-03T21:25:03.146943Z",
     "iopub.status.idle": "2023-12-03T21:25:03.164207Z",
     "shell.execute_reply": "2023-12-03T21:25:03.163072Z",
     "shell.execute_reply.started": "2023-12-03T21:25:03.147547Z"
    }
   },
   "outputs": [
    {
     "data": {
      "text/plain": [
       "array(['Lower Manhattan', \"Hell's Kitchen\", 'Astoria'], dtype=object)"
      ]
     },
     "execution_count": 28,
     "metadata": {},
     "output_type": "execute_result"
    }
   ],
   "source": [
    "# see unique values\n",
    "\n",
    "data[\"store_location\"].unique()"
   ]
  },
  {
   "cell_type": "code",
   "execution_count": 29,
   "metadata": {
    "execution": {
     "iopub.execute_input": "2023-12-03T21:25:03.166099Z",
     "iopub.status.busy": "2023-12-03T21:25:03.165634Z",
     "iopub.status.idle": "2023-12-03T21:25:03.310044Z",
     "shell.execute_reply": "2023-12-03T21:25:03.309214Z",
     "shell.execute_reply.started": "2023-12-03T21:25:03.166066Z"
    }
   },
   "outputs": [
    {
     "data": {
      "image/png": "[encoded data removed]",
      "text/plain": [
       "<Figure size 432x288 with 1 Axes>"
      ]
     },
     "metadata": {},
     "output_type": "display_data"
    }
   ],
   "source": [
    "# see number of sales in each store\n",
    "\n",
    "pie_plot(column_name = \"store_location\", explodeIndex = 0)"
   ]
  },
  {
   "cell_type": "markdown",
   "metadata": {},
   "source": [
    "**📝 The sales rates of the three stores were similar, with the most significant difference observed at the Hell's Kitchen store**"
   ]
  },
  {
   "cell_type": "markdown",
   "metadata": {},
   "source": [
    "### Discovering `unit_price` column"
   ]
  },
  {
   "cell_type": "code",
   "execution_count": 30,
   "metadata": {
    "execution": {
     "iopub.execute_input": "2023-12-03T21:25:03.312446Z",
     "iopub.status.busy": "2023-12-03T21:25:03.311946Z",
     "iopub.status.idle": "2023-12-03T21:25:03.32032Z",
     "shell.execute_reply": "2023-12-03T21:25:03.3194Z",
     "shell.execute_reply.started": "2023-12-03T21:25:03.312413Z"
    }
   },
   "outputs": [
    {
     "data": {
      "text/plain": [
       "array([ 3.  ,  3.1 ,  4.5 ,  2.  ,  4.25,  3.5 ,  2.55,  3.75,  2.5 ,\n",
       "        4.75,  3.25,  4.  ,  2.2 ,  2.45,  0.8 ,  8.95, 21.  , 28.  ,\n",
       "        6.4 , 19.75, 12.  , 18.  ,  9.5 , 10.  , 20.45,  9.25, 22.5 ,\n",
       "       14.75,  7.6 , 14.  , 10.95, 13.33, 15.  ,  4.38,  4.06,  5.63,\n",
       "        4.69, 45.  , 23.  ,  2.1 ,  2.65])"
      ]
     },
     "execution_count": 30,
     "metadata": {},
     "output_type": "execute_result"
    }
   ],
   "source": [
    "# see unique values\n",
    "\n",
    "data[\"unit_price\"].unique()"
   ]
  },
  {
   "cell_type": "code",
   "execution_count": 31,
   "metadata": {
    "execution": {
     "iopub.execute_input": "2023-12-03T21:25:19.281145Z",
     "iopub.status.busy": "2023-12-03T21:25:19.280788Z",
     "iopub.status.idle": "2023-12-03T21:25:19.457835Z",
     "shell.execute_reply": "2023-12-03T21:25:19.456955Z",
     "shell.execute_reply.started": "2023-12-03T21:25:19.281117Z"
    }
   },
   "outputs": [
    {
     "data": {
      "text/plain": [
       "<AxesSubplot:ylabel='unit_price'>"
      ]
     },
     "execution_count": 31,
     "metadata": {},
     "output_type": "execute_result"
    },
    {
     "data": {
      "image/png": "[encoded data removed]",
      "text/plain": [
       "<Figure size 432x288 with 1 Axes>"
      ]
     },
     "metadata": {},
     "output_type": "display_data"
    }
   ],
   "source": [
    "# see 5 number summary to check outliers\n",
    "\n",
    "sns.boxplot(y = \"unit_price\", data = data)"
   ]
  },
  {
   "cell_type": "markdown",
   "metadata": {},
   "source": [
    "**🧩 One might assume the presence of `outliers`, but such variations are expected in different types of coffee**"
   ]
  },
  {
   "cell_type": "code",
   "execution_count": 32,
   "metadata": {
    "execution": {
     "iopub.execute_input": "2023-12-03T21:25:19.794271Z",
     "iopub.status.busy": "2023-12-03T21:25:19.793636Z",
     "iopub.status.idle": "2023-12-03T21:25:20.695867Z",
     "shell.execute_reply": "2023-12-03T21:25:20.695164Z",
     "shell.execute_reply.started": "2023-12-03T21:25:19.794203Z"
    }
   },
   "outputs": [
    {
     "data": {
      "image/png": "[encoded data removed]",
      "text/plain": [
       "<Figure size 432x288 with 1 Axes>"
      ]
     },
     "metadata": {},
     "output_type": "display_data"
    }
   ],
   "source": [
    "# see distribution\n",
    "\n",
    "sns.kdeplot(x = data[\"unit_price\"], fill = True)\n",
    "plt.show()"
   ]
  },
  {
   "cell_type": "markdown",
   "metadata": {},
   "source": [
    "**🛑📊 We can see :**\n",
    "   - Price distribution is `positively skewed`, We understand from this that most Coffee have lower prices,while a few Coffee have higher prices "
   ]
  },
  {
   "cell_type": "markdown",
   "metadata": {},
   "source": [
    "### Discovering `product_category` column"
   ]
  },
  {
   "cell_type": "code",
   "execution_count": 33,
   "metadata": {
    "execution": {
     "iopub.execute_input": "2023-12-03T21:25:20.69742Z",
     "iopub.status.busy": "2023-12-03T21:25:20.697139Z",
     "iopub.status.idle": "2023-12-03T21:25:20.712888Z",
     "shell.execute_reply": "2023-12-03T21:25:20.711788Z",
     "shell.execute_reply.started": "2023-12-03T21:25:20.697397Z"
    }
   },
   "outputs": [
    {
     "data": {
      "text/plain": [
       "array(['Coffee', 'Tea', 'Drinking Chocolate', 'Bakery', 'Flavours',\n",
       "       'Loose Tea', 'Coffee beans', 'Packaged Chocolate', 'Branded'],\n",
       "      dtype=object)"
      ]
     },
     "execution_count": 33,
     "metadata": {},
     "output_type": "execute_result"
    }
   ],
   "source": [
    "# see unique values \n",
    "\n",
    "data[\"product_category\"].unique()"
   ]
  },
  {
   "cell_type": "code",
   "execution_count": 34,
   "metadata": {
    "execution": {
     "iopub.execute_input": "2023-12-03T21:25:20.715151Z",
     "iopub.status.busy": "2023-12-03T21:25:20.714771Z",
     "iopub.status.idle": "2023-12-03T21:25:21.030869Z",
     "shell.execute_reply": "2023-12-03T21:25:21.02948Z",
     "shell.execute_reply.started": "2023-12-03T21:25:20.715119Z"
    }
   },
   "outputs": [
    {
     "data": {
      "image/png": "[encoded data removed]",
      "text/plain": [
       "<Figure size 1080x432 with 1 Axes>"
      ]
     },
     "metadata": {},
     "output_type": "display_data"
    }
   ],
   "source": [
    "# see most common category\n",
    "\n",
    "# set figure size\n",
    "plt.figure(figsize = (15,6))\n",
    "\n",
    "# call function i create it in cell 12\n",
    "count_plot(x_axis = \"product_category\")  "
   ]
  },
  {
   "cell_type": "markdown",
   "metadata": {},
   "source": [
    "**🛑📊 We can see :**\n",
    "   - it's evident that the three stores offer a wide range of services.\n",
    "   - `Coffee` stands as the best-selling product.\n",
    "   - `Tea` also exhibits a high sales rate."
   ]
  },
  {
   "cell_type": "markdown",
   "metadata": {},
   "source": [
    "### Discovering `product_type` column"
   ]
  },
  {
   "cell_type": "code",
   "execution_count": 35,
   "metadata": {
    "execution": {
     "iopub.execute_input": "2023-12-03T21:25:21.033466Z",
     "iopub.status.busy": "2023-12-03T21:25:21.033091Z",
     "iopub.status.idle": "2023-12-03T21:25:21.051111Z",
     "shell.execute_reply": "2023-12-03T21:25:21.049657Z",
     "shell.execute_reply.started": "2023-12-03T21:25:21.033436Z"
    }
   },
   "outputs": [
    {
     "data": {
      "text/plain": [
       "array(['Gourmet brewed coffee', 'Brewed Chai tea', 'Hot chocolate',\n",
       "       'Drip coffee', 'Scone', 'Barista Espresso', 'Brewed Black tea',\n",
       "       'Brewed Green tea', 'Brewed herbal tea', 'Biscotti', 'Pastry',\n",
       "       'Organic brewed coffee', 'Premium brewed coffee', 'Regular syrup',\n",
       "       'Herbal tea', 'Gourmet Beans', 'Organic Beans', 'Sugar free syrup',\n",
       "       'Drinking Chocolate', 'Premium Beans', 'Chai tea', 'Green beans',\n",
       "       'Espresso Beans', 'Green tea', 'Organic Chocolate', 'Housewares',\n",
       "       'Black tea', 'House blend Beans', 'Clothing'], dtype=object)"
      ]
     },
     "execution_count": 35,
     "metadata": {},
     "output_type": "execute_result"
    }
   ],
   "source": [
    "# see unique values\n",
    "\n",
    "data[\"product_type\"].unique()"
   ]
  },
  {
   "cell_type": "code",
   "execution_count": 36,
   "metadata": {
    "execution": {
     "iopub.execute_input": "2023-12-03T21:25:22.254342Z",
     "iopub.status.busy": "2023-12-03T21:25:22.253942Z",
     "iopub.status.idle": "2023-12-03T21:25:24.628921Z",
     "shell.execute_reply": "2023-12-03T21:25:24.627946Z",
     "shell.execute_reply.started": "2023-12-03T21:25:22.254313Z"
    }
   },
   "outputs": [
    {
     "data": {
      "image/png": "[encoded data removed]",
      "text/plain": [
       "<Figure size 1080x1440 with 10 Axes>"
      ]
     },
     "metadata": {},
     "output_type": "display_data"
    }
   ],
   "source": [
    "# Assuming 'counts' is the DataFrame obtained from your groupby operation\n",
    "counts = data.groupby([\"product_category\", \"product_type\"]).size().reset_index(name = \"count\")\n",
    "\n",
    "# Get unique categories\n",
    "categories = counts['product_category'].unique()\n",
    "\n",
    "# Create subplots for each category in a 4x2 grid\n",
    "fig, axes = plt.subplots(5, 2, figsize = (15, 20))\n",
    "\n",
    "# Flatten the axes for easier iteration\n",
    "axes = axes.flatten()\n",
    "\n",
    "for i, category in enumerate(categories):\n",
    "    # Filter data for each category\n",
    "    subset = counts[counts['product_category'] == category]\n",
    "    \n",
    "    # Sort the data by 'count' column in descending order\n",
    "    subset = subset.sort_values('count', ascending = False)\n",
    "    \n",
    "    # Create a bar plot for each category with sorted order\n",
    "    sns.barplot(x = 'count', y = 'product_type', data = subset, ax = axes[i], order = subset['product_type'])\n",
    "    axes[i].set_title(f'Product Types in {category}')\n",
    "    axes[i].set_ylabel('')\n",
    "    axes[i].set_xlabel('')\n",
    "    axes[i].tick_params(axis = 'x', rotation = 45)\n",
    "    axes[i].grid(True)\n",
    "    \n",
    "    # Adding bar labels\n",
    "    for idx, bar in enumerate(axes[i].patches):\n",
    "        axes[i].text(bar.get_width(), bar.get_y() + bar.get_height() / 2, subset.iloc[idx]['count'], ha = 'left', va = 'center')\n",
    "\n",
    "# Hide extra subplots if there are fewer categories than subplots\n",
    "for j in range(len(categories), len(axes)):\n",
    "    axes[j].axis('off')\n",
    "\n",
    "plt.tight_layout()\n",
    "plt.show()\n"
   ]
  },
  {
   "cell_type": "markdown",
   "metadata": {},
   "source": [
    "### Discovering `product_detail` column"
   ]
  },
  {
   "cell_type": "code",
   "execution_count": 37,
   "metadata": {
    "execution": {
     "iopub.execute_input": "2023-12-03T21:25:24.632025Z",
     "iopub.status.busy": "2023-12-03T21:25:24.631038Z",
     "iopub.status.idle": "2023-12-03T21:25:24.651133Z",
     "shell.execute_reply": "2023-12-03T21:25:24.649453Z",
     "shell.execute_reply.started": "2023-12-03T21:25:24.631984Z"
    }
   },
   "outputs": [
    {
     "data": {
      "text/plain": [
       "array(['Ethiopia Rg', 'Spicy Eye Opener Chai Lg', 'Dark chocolate Lg',\n",
       "       'Our Old Time Diner Blend Sm', 'Oatmeal Scone',\n",
       "       'Columbian Medium Roast Sm', 'Latte Rg', 'Dark chocolate Rg',\n",
       "       'Spicy Eye Opener Chai Rg', 'Ethiopia Lg', 'Earl Grey Lg',\n",
       "       'Ouro Brasileiro shot', 'Serenity Green Tea Lg',\n",
       "       'Jumbo Savory Scone', 'Lemon Grass Rg',\n",
       "       'Sustainably Grown Organic Lg', 'Hazelnut Biscotti', 'Cappuccino',\n",
       "       'Lemon Grass Lg', 'Chocolate Chip Biscotti', 'Peppermint Lg',\n",
       "       'Chocolate Croissant', 'Latte', 'Brazilian Rg', 'Brazilian Lg',\n",
       "       'Columbian Medium Roast Rg', 'Morning Sunrise Chai Rg',\n",
       "       'Morning Sunrise Chai Lg', 'Our Old Time Diner Blend Lg',\n",
       "       'Sustainably Grown Organic Rg', 'Scottish Cream Scone ',\n",
       "       'Peppermint Rg', 'English Breakfast Rg',\n",
       "       'Our Old Time Diner Blend Rg', 'Serenity Green Tea Rg',\n",
       "       'Brazilian Sm', 'Jamaican Coffee River Sm',\n",
       "       'Jamaican Coffee River Lg', 'Ginger Biscotti',\n",
       "       'Traditional Blend Chai Lg', 'Cappuccino Lg', 'Espresso shot',\n",
       "       'Earl Grey Rg', 'Ginger Scone', 'Jamaican Coffee River Rg',\n",
       "       'Cranberry Scone', 'Almond Croissant', 'Croissant', 'Ethiopia Sm',\n",
       "       'English Breakfast Lg', 'Traditional Blend Chai Rg',\n",
       "       'Columbian Medium Roast Lg', 'Hazelnut syrup', 'Peppermint',\n",
       "       'Carmel syrup', 'Ethiopia', 'Organic Decaf Blend',\n",
       "       'Sugar Free Vanilla syrup', 'Chocolate syrup', 'Dark chocolate',\n",
       "       'Jamacian Coffee River', 'Brazilian - Organic',\n",
       "       'Morning Sunrise Chai', 'Guatemalan Sustainably Grown',\n",
       "       'Primo Espresso Roast', 'Serenity Green Tea',\n",
       "       'Traditional Blend Chai', 'Espresso Roast',\n",
       "       'Sustainably Grown Organic', 'I Need My Bean! Latte cup',\n",
       "       'Spicy Eye Opener Chai', 'Chili Mayan', 'English Breakfast',\n",
       "       'Lemon Grass', 'Columbian Medium Roast',\n",
       "       'Our Old Time Diner Blend', 'I Need My Bean! T-shirt', 'Earl Grey',\n",
       "       'Civet Cat', 'I Need My Bean! Diner mug'], dtype=object)"
      ]
     },
     "execution_count": 37,
     "metadata": {},
     "output_type": "execute_result"
    }
   ],
   "source": [
    "# see unique values\n",
    "\n",
    "data[\"product_detail\"].unique()"
   ]
  },
  {
   "cell_type": "markdown",
   "metadata": {},
   "source": [
    "**🛑I decided to `Drop` this column, it's redundant since the same information is presented more effectively in the other columns**"
   ]
  },
  {
   "cell_type": "code",
   "execution_count": 38,
   "metadata": {
    "execution": {
     "iopub.execute_input": "2023-12-03T21:25:24.653571Z",
     "iopub.status.busy": "2023-12-03T21:25:24.653096Z",
     "iopub.status.idle": "2023-12-03T21:25:24.676313Z",
     "shell.execute_reply": "2023-12-03T21:25:24.675074Z",
     "shell.execute_reply.started": "2023-12-03T21:25:24.653534Z"
    }
   },
   "outputs": [],
   "source": [
    "# drop column\n",
    "\n",
    "data.drop(columns = \"product_detail\", inplace = True)"
   ]
  },
  {
   "cell_type": "code",
   "execution_count": 39,
   "metadata": {
    "execution": {
     "iopub.execute_input": "2023-12-03T21:25:24.679852Z",
     "iopub.status.busy": "2023-12-03T21:25:24.678997Z",
     "iopub.status.idle": "2023-12-03T21:25:24.686801Z",
     "shell.execute_reply": "2023-12-03T21:25:24.685313Z",
     "shell.execute_reply.started": "2023-12-03T21:25:24.679815Z"
    }
   },
   "outputs": [],
   "source": [
    "# add new column revenue\n",
    "\n",
    "data[\"Total revenue\"] = data[\"transaction_qty\"] * data[\"unit_price\"]"
   ]
  },
  {
   "cell_type": "code",
   "execution_count": 40,
   "metadata": {
    "execution": {
     "iopub.execute_input": "2023-12-03T21:25:24.688399Z",
     "iopub.status.busy": "2023-12-03T21:25:24.688064Z",
     "iopub.status.idle": "2023-12-03T21:25:24.719911Z",
     "shell.execute_reply": "2023-12-03T21:25:24.718921Z",
     "shell.execute_reply.started": "2023-12-03T21:25:24.688369Z"
    }
   },
   "outputs": [
    {
     "data": {
      "text/html": [
       "<div>\n",
       "<style scoped>\n",
       "    .dataframe tbody tr th:only-of-type {\n",
       "        vertical-align: middle;\n",
       "    }\n",
       "\n",
       "    .dataframe tbody tr th {\n",
       "        vertical-align: top;\n",
       "    }\n",
       "\n",
       "    .dataframe thead th {\n",
       "        text-align: right;\n",
       "    }\n",
       "</style>\n",
       "<table border=\"1\" class=\"dataframe\">\n",
       "  <thead>\n",
       "    <tr style=\"text-align: right;\">\n",
       "      <th></th>\n",
       "      <th>transaction_qty</th>\n",
       "      <th>store_location</th>\n",
       "      <th>unit_price</th>\n",
       "      <th>product_category</th>\n",
       "      <th>product_type</th>\n",
       "      <th>year</th>\n",
       "      <th>month</th>\n",
       "      <th>day</th>\n",
       "      <th>hour</th>\n",
       "      <th>Total revenue</th>\n",
       "    </tr>\n",
       "  </thead>\n",
       "  <tbody>\n",
       "    <tr>\n",
       "      <th>3082</th>\n",
       "      <td>1</td>\n",
       "      <td>Hell's Kitchen</td>\n",
       "      <td>3.50</td>\n",
       "      <td>Coffee</td>\n",
       "      <td>Gourmet brewed coffee</td>\n",
       "      <td>2023</td>\n",
       "      <td>January</td>\n",
       "      <td>Friday</td>\n",
       "      <td>15</td>\n",
       "      <td>3.50</td>\n",
       "    </tr>\n",
       "    <tr>\n",
       "      <th>108995</th>\n",
       "      <td>2</td>\n",
       "      <td>Astoria</td>\n",
       "      <td>2.45</td>\n",
       "      <td>Coffee</td>\n",
       "      <td>Premium brewed coffee</td>\n",
       "      <td>2023</td>\n",
       "      <td>May</td>\n",
       "      <td>Saturday</td>\n",
       "      <td>9</td>\n",
       "      <td>4.90</td>\n",
       "    </tr>\n",
       "    <tr>\n",
       "      <th>28081</th>\n",
       "      <td>2</td>\n",
       "      <td>Lower Manhattan</td>\n",
       "      <td>3.50</td>\n",
       "      <td>Coffee</td>\n",
       "      <td>Organic brewed coffee</td>\n",
       "      <td>2023</td>\n",
       "      <td>February</td>\n",
       "      <td>Sunday</td>\n",
       "      <td>10</td>\n",
       "      <td>7.00</td>\n",
       "    </tr>\n",
       "    <tr>\n",
       "      <th>99955</th>\n",
       "      <td>1</td>\n",
       "      <td>Astoria</td>\n",
       "      <td>3.25</td>\n",
       "      <td>Bakery</td>\n",
       "      <td>Scone</td>\n",
       "      <td>2023</td>\n",
       "      <td>May</td>\n",
       "      <td>Friday</td>\n",
       "      <td>7</td>\n",
       "      <td>3.25</td>\n",
       "    </tr>\n",
       "    <tr>\n",
       "      <th>4683</th>\n",
       "      <td>1</td>\n",
       "      <td>Astoria</td>\n",
       "      <td>3.00</td>\n",
       "      <td>Bakery</td>\n",
       "      <td>Scone</td>\n",
       "      <td>2023</td>\n",
       "      <td>January</td>\n",
       "      <td>Monday</td>\n",
       "      <td>10</td>\n",
       "      <td>3.00</td>\n",
       "    </tr>\n",
       "  </tbody>\n",
       "</table>\n",
       "</div>"
      ],
      "text/plain": [
       "        transaction_qty   store_location  unit_price product_category  \\\n",
       "3082                  1   Hell's Kitchen        3.50           Coffee   \n",
       "108995                2          Astoria        2.45           Coffee   \n",
       "28081                 2  Lower Manhattan        3.50           Coffee   \n",
       "99955                 1          Astoria        3.25           Bakery   \n",
       "4683                  1          Astoria        3.00           Bakery   \n",
       "\n",
       "                 product_type  year     month       day  hour  Total revenue  \n",
       "3082    Gourmet brewed coffee  2023   January    Friday    15           3.50  \n",
       "108995  Premium brewed coffee  2023       May  Saturday     9           4.90  \n",
       "28081   Organic brewed coffee  2023  February    Sunday    10           7.00  \n",
       "99955                   Scone  2023       May    Friday     7           3.25  \n",
       "4683                    Scone  2023   January    Monday    10           3.00  "
      ]
     },
     "execution_count": 40,
     "metadata": {},
     "output_type": "execute_result"
    }
   ],
   "source": [
    "# see sample of data\n",
    "\n",
    "data.sample(5)"
   ]
  },
  {
   "cell_type": "markdown",
   "metadata": {},
   "source": [
    "## Columns Insights📊📉📈"
   ]
  },
  {
   "cell_type": "markdown",
   "metadata": {},
   "source": [
    "- **Year**, Sales exclusively from 2023.\n",
    "- **Month**, Most sales within a six-month period \n",
    "- **Hour**, Most sales were from 8 am to 11 pm\n",
    "- **Transaction quantity**, Most sales were singles followed by 2 lots\n",
    "- **Stores**, The sales rates of the three stores were similar, with the most significant difference observed at the `Hell's Kitchen` store\n",
    "- **Unit price**, Price distribution is `positively skewed`, We understand from this that most Coffee have lower prices,while a few Coffee have higher prices\n",
    "- **Category :**\n",
    "     - it's evident that the three stores offer a wide range of services.\n",
    "     - `Coffee` stands as the best-selling product.\n",
    "     - `Tea` also exhibits a high sales rate.\n",
    "- **product type :**\n",
    "     - In the **Bakery** category, the most sold item is the **scone**\n",
    "     - In the **Branded** category, the best-selling item is **Housewares**\n",
    "     - In the **Coffee** category, the best-selling item is **Gourmet brewed coffee**\n",
    "     - In the **Coffee beans** category, the best-selling item is **Organic Beans**\n",
    "     - The **Drinking Chocolate** category solely offers **hot chocolate**\n",
    "     - **Regular syrup** are the top-selling items in the **Flavours** category\n",
    "     - In the **Loose Tea** category, the best-selling item is **Chai tea**\n",
    "     - In the **Packaged Chocolate** category, the best-selling item is **Drinking Chocolate**\n",
    "     - In the **Tea** category, the best-selling item is **Brewed Chai tea**"
   ]
  },
  {
   "cell_type": "markdown",
   "metadata": {},
   "source": [
    "## Bivariate Analysis & Visualizations 📊📉📈"
   ]
  },
  {
   "cell_type": "code",
   "execution_count": 41,
   "metadata": {
    "execution": {
     "iopub.execute_input": "2023-12-03T21:25:24.721531Z",
     "iopub.status.busy": "2023-12-03T21:25:24.721075Z",
     "iopub.status.idle": "2023-12-03T21:25:24.907899Z",
     "shell.execute_reply": "2023-12-03T21:25:24.906516Z",
     "shell.execute_reply.started": "2023-12-03T21:25:24.721496Z"
    }
   },
   "outputs": [
    {
     "data": {
      "image/png": "[encoded data removed]",
      "text/plain": [
       "<Figure size 432x288 with 1 Axes>"
      ]
     },
     "metadata": {},
     "output_type": "display_data"
    }
   ],
   "source": [
    "# stores Vs transaction quantities\n",
    "\n",
    "# Calculate sum of transaction quantities for each store_location\n",
    "sum_transaction_qty = data.groupby(\"store_location\")[\"transaction_qty\"].sum().reset_index()\n",
    "\n",
    "# create line plot\n",
    "sns.lineplot(x = \"store_location\", y = \"transaction_qty\", data = sum_transaction_qty, marker = \"o\")\n",
    "plt.show()"
   ]
  },
  {
   "cell_type": "markdown",
   "metadata": {},
   "source": [
    "**🛑 We can see :**\n",
    "   - The sales ratios for quantities seem to be quite similar across all stores"
   ]
  },
  {
   "cell_type": "code",
   "execution_count": 42,
   "metadata": {
    "execution": {
     "iopub.execute_input": "2023-12-03T21:25:24.910171Z",
     "iopub.status.busy": "2023-12-03T21:25:24.90981Z",
     "iopub.status.idle": "2023-12-03T21:25:25.080967Z",
     "shell.execute_reply": "2023-12-03T21:25:25.080079Z",
     "shell.execute_reply.started": "2023-12-03T21:25:24.910137Z"
    }
   },
   "outputs": [
    {
     "data": {
      "image/png": "[encoded data removed]",
      "text/plain": [
       "<Figure size 432x288 with 1 Axes>"
      ]
     },
     "metadata": {},
     "output_type": "display_data"
    }
   ],
   "source": [
    "# Stores Vs Total revenue\n",
    "\n",
    "# Calculate total revenue for each store_location\n",
    "revenue = data.groupby(\"store_location\")[\"Total revenue\"].sum().reset_index()\n",
    "\n",
    "# create bar plot\n",
    "ax = sns.barplot(x = \"store_location\", y = \"Total revenue\", data = revenue)\n",
    "\n",
    "# Adding labels to each bar\n",
    "for p in ax.patches:\n",
    "    ax.annotate(format(p.get_height(), '.0f'), (p.get_x() + p.get_width() / 2., p.get_height()), ha = 'center', va = 'center', \n",
    "                xytext = (0, 5), textcoords = 'offset points')\n",
    "    \n",
    "plt.show()"
   ]
  },
  {
   "cell_type": "markdown",
   "metadata": {},
   "source": [
    "**We can see :**\n",
    "- The total revenue generated from sales at each store location amounted to $232,243.91 for Astoria, $236,511.17 for `Hell's Kitchen`, and $230,057.25 for `Lower Manhattan`\n",
    "- **\"Hell's Kitchen\"** appears to be the best store in terms of revenue. "
   ]
  },
  {
   "cell_type": "code",
   "execution_count": 43,
   "metadata": {
    "execution": {
     "iopub.execute_input": "2023-12-03T21:25:25.08312Z",
     "iopub.status.busy": "2023-12-03T21:25:25.082071Z",
     "iopub.status.idle": "2023-12-03T21:25:25.48728Z",
     "shell.execute_reply": "2023-12-03T21:25:25.485339Z",
     "shell.execute_reply.started": "2023-12-03T21:25:25.083089Z"
    }
   },
   "outputs": [
    {
     "ename": "AttributeError",
     "evalue": "'DataFrameGroupBy' object has no attribute 'value_counts'",
     "output_type": "error",
     "traceback": [
      "\u001b[1;31m---------------------------------------------------------------------------\u001b[0m",
      "\u001b[1;31mAttributeError\u001b[0m                            Traceback (most recent call last)",
      "\u001b[1;32m~\\AppData\\Local\\Temp/ipykernel_10740/1785963955.py\u001b[0m in \u001b[0;36m<module>\u001b[1;34m\u001b[0m\n\u001b[0;32m      2\u001b[0m \u001b[1;33m\u001b[0m\u001b[0m\n\u001b[0;32m      3\u001b[0m \u001b[1;31m# Calculate number of product categories at each store location\u001b[0m\u001b[1;33m\u001b[0m\u001b[1;33m\u001b[0m\u001b[0m\n\u001b[1;32m----> 4\u001b[1;33m \u001b[0mpopular_products\u001b[0m \u001b[1;33m=\u001b[0m \u001b[0mdata\u001b[0m\u001b[1;33m.\u001b[0m\u001b[0mgroupby\u001b[0m\u001b[1;33m(\u001b[0m\u001b[1;34m'store_location'\u001b[0m\u001b[1;33m)\u001b[0m\u001b[1;33m[\u001b[0m\u001b[1;33m[\u001b[0m\u001b[1;34m'product_category'\u001b[0m\u001b[1;33m]\u001b[0m\u001b[1;33m]\u001b[0m\u001b[1;33m.\u001b[0m\u001b[0mvalue_counts\u001b[0m\u001b[1;33m(\u001b[0m\u001b[1;33m)\u001b[0m\u001b[1;33m.\u001b[0m\u001b[0mreset_index\u001b[0m\u001b[1;33m(\u001b[0m\u001b[0mname\u001b[0m\u001b[1;33m=\u001b[0m\u001b[1;34m'count'\u001b[0m\u001b[1;33m)\u001b[0m\u001b[1;33m\u001b[0m\u001b[1;33m\u001b[0m\u001b[0m\n\u001b[0m\u001b[0;32m      5\u001b[0m \u001b[1;33m\u001b[0m\u001b[0m\n\u001b[0;32m      6\u001b[0m \u001b[1;31m# set figure size\u001b[0m\u001b[1;33m\u001b[0m\u001b[1;33m\u001b[0m\u001b[0m\n",
      "\u001b[1;32mC:\\ProgramData\\Anaconda3\\lib\\site-packages\\pandas\\core\\groupby\\groupby.py\u001b[0m in \u001b[0;36m__getattr__\u001b[1;34m(self, attr)\u001b[0m\n\u001b[0;32m    909\u001b[0m             \u001b[1;32mreturn\u001b[0m \u001b[0mself\u001b[0m\u001b[1;33m[\u001b[0m\u001b[0mattr\u001b[0m\u001b[1;33m]\u001b[0m\u001b[1;33m\u001b[0m\u001b[1;33m\u001b[0m\u001b[0m\n\u001b[0;32m    910\u001b[0m \u001b[1;33m\u001b[0m\u001b[0m\n\u001b[1;32m--> 911\u001b[1;33m         raise AttributeError(\n\u001b[0m\u001b[0;32m    912\u001b[0m             \u001b[1;34mf\"'{type(self).__name__}' object has no attribute '{attr}'\"\u001b[0m\u001b[1;33m\u001b[0m\u001b[1;33m\u001b[0m\u001b[0m\n\u001b[0;32m    913\u001b[0m         )\n",
      "\u001b[1;31mAttributeError\u001b[0m: 'DataFrameGroupBy' object has no attribute 'value_counts'"
     ]
    }
   ],
   "source": [
    "# Stores VS product categories\n",
    "\n",
    "# Calculate number of product categories at each store location\n",
    "popular_products = data.groupby('store_location')[['product_category']].value_counts().reset_index(name='count')\n",
    "\n",
    "# set figure size\n",
    "plt.figure(figsize=(10, 5))\n",
    "\n",
    "# Create a bar plot \n",
    "sns.barplot(x = 'store_location', y = 'count', hue = 'product_category', data = popular_products, palette = \"RdBu\")\n",
    "\n",
    "plt.tight_layout()\n",
    "plt.show()"
   ]
  },
  {
   "cell_type": "markdown",
   "metadata": {},
   "source": [
    "- **Astoria Store :** \n",
    "    - The highest selling product category is **Coffee** with a count of **20,025** units\n",
    "    - Following Coffee, **Tea** stands as the second most popular category with a count of **16,260** units\n",
    "    - Other categories like Bakery, Drinking Chocolate, Flavours, Coffee beans, Loose Tea, Branded, and Packaged Chocolate have        varying counts, ranging from **7289** to **110** units, in **descending order**\n",
    "<p>&nbsp;</p>\n",
    "\n",
    "- **Hell's Kitchen Store :**\n",
    "    - Similar to Astoria, **Coffee** leads in sales, amounting to **20,187** units\n",
    "    - **Tea** follows closely as the second most popular category with **15,277** units\n",
    "    - Other categories, such as Bakery, Drinking Chocolate, Flavours, Coffee beans, Loose Tea, Packaged Chocolate, Branded, and Packaged Chocolate, have counts ranging from **7617** to **119** units  \n",
    "<p>&nbsp;</p>\n",
    "\n",
    "- **Lower Manhattan Store :**\n",
    "    - **Coffee** is again the top-selling category with **18,204** units\n",
    "    - **Tea** follows with **13,912** units\n",
    "    - Bakery, Drinking Chocolate, Flavours, Coffee beans, Loose Tea, Branded, Packaged Chocolate have counts ranging from **7890** to **180** units, in **descending order**"
   ]
  },
  {
   "cell_type": "code",
   "execution_count": null,
   "metadata": {
    "execution": {
     "iopub.execute_input": "2023-12-03T21:25:25.490793Z",
     "iopub.status.busy": "2023-12-03T21:25:25.489984Z",
     "iopub.status.idle": "2023-12-03T21:25:25.849652Z",
     "shell.execute_reply": "2023-12-03T21:25:25.848009Z",
     "shell.execute_reply.started": "2023-12-03T21:25:25.490756Z"
    }
   },
   "outputs": [],
   "source": [
    "# Stores VS Most transaction_qty\n",
    "\n",
    "# grouped 'store_location' and 'transaction_qty' as columns\n",
    "grouped_data = data.groupby(\"store_location\")[\"transaction_qty\"].value_counts().reset_index(name = \"count\")\n",
    "\n",
    "# set figure size\n",
    "plt.figure(figsize=(10, 5))\n",
    "\n",
    "# Create bar plot\n",
    "sns.barplot(x = \"store_location\", y = \"count\", hue = \"transaction_qty\", data = grouped_data)\n",
    "\n",
    "plt.tight_layout()\n",
    "plt.show()"
   ]
  },
  {
   "cell_type": "markdown",
   "metadata": {},
   "source": [
    "- **Astoria Store :**\n",
    "    - The most frequent transaction quantity observed is **1**, with a count of **30,207** instances\n",
    "    - The second most frequent transaction quantity is **2**, noted **20,392** times\n",
    "<p>&nbsp;</p>\n",
    "- **Hell's Kitchen Store:**\n",
    "    - The most frequent transaction quantity observed is **1**, noted **29,793** times\n",
    "    - The second most frequent transaction quantity is **2**, observed **20,932** times\n",
    "    - Additionally, there are **8** transactions with a quantity of **8**\n",
    "<p>&nbsp;</p>\n",
    "- **Lower Manhattan Store:**\n",
    "    - The most frequent transaction quantity observed is **1**, recorded **27,159** times.\n",
    "    - The second most frequent transaction quantity is **2**, seen **17,318** times.\n",
    "    - There are occurrences of transaction quantities **3**, **4**, and **6**, but they are less frequent compared to quantities **1** and **2**"
   ]
  },
  {
   "cell_type": "code",
   "execution_count": null,
   "metadata": {
    "execution": {
     "iopub.execute_input": "2023-12-03T21:25:25.852589Z",
     "iopub.status.busy": "2023-12-03T21:25:25.852202Z",
     "iopub.status.idle": "2023-12-03T21:25:26.330429Z",
     "shell.execute_reply": "2023-12-03T21:25:26.329272Z",
     "shell.execute_reply.started": "2023-12-03T21:25:25.852561Z"
    }
   },
   "outputs": [],
   "source": [
    "# Stores VS Hour sales\n",
    "\n",
    "# set figure size\n",
    "plt.figure(figsize=(16, 6))\n",
    "\n",
    "# call function i create it in cell 12\n",
    "count_plot(x_axis = \"hour\", hue = \"store_location\", top = 10)"
   ]
  },
  {
   "cell_type": "markdown",
   "metadata": {},
   "source": [
    "- **Astoria Store :**\n",
    "    - Peak hours are from **9 AM** to **10 AM**, and from **4 PM** to **5 PM**, with counts ranging between **5,083** and **5,291** during these periods\n",
    "    - The least busy hours are from **7 AM** to **8 AM**, with counts ranging between **4,181** and **4,966**\n",
    "<p>&nbsp;</p>\n",
    "- **Hell's Kitchen Store :**\n",
    "    - Busiest hours are from **8 AM** to **10 AM**, with counts ranging between **6,767** and **6,909**\n",
    "    - The least busy hours are from **6 AM** to **7 AM** and from **6 PM** to **8 PM**\n",
    "<p>&nbsp;</p>\n",
    "- **Lower Manhattan Store :**\n",
    "    - Peak hours are from **9 AM** to **10 AM**, with a count of **6,297**, and from **2 PM** to **3 PM**, with a count of **3,051**\n",
    "    - The least busy hours are from **7 PM** to **8 PM**, with counts dropping to **75** and **125**"
   ]
  },
  {
   "cell_type": "code",
   "execution_count": null,
   "metadata": {
    "execution": {
     "iopub.execute_input": "2023-12-03T21:25:26.332271Z",
     "iopub.status.busy": "2023-12-03T21:25:26.331984Z",
     "iopub.status.idle": "2023-12-03T21:25:26.903715Z",
     "shell.execute_reply": "2023-12-03T21:25:26.902125Z",
     "shell.execute_reply.started": "2023-12-03T21:25:26.332247Z"
    }
   },
   "outputs": [],
   "source": [
    "# Category VS Total revenue\n",
    "\n",
    "# grouped product_type' and 'Total revenue'\n",
    "category_revenue = data.groupby(\"product_type\")[\"Total revenue\"].sum().reset_index(name = \"revenue\")\n",
    "\n",
    "# sort category by revenue\n",
    "category_revenue = category_revenue.sort_values(by = 'revenue', ascending = False)\n",
    "\n",
    "# set figure size\n",
    "plt.figure(figsize = (15,6))\n",
    "\n",
    "# create bar plot\n",
    "sns.barplot(x = \"product_type\", y = \"revenue\", data = category_revenue, palette = \"RdBu\")\n",
    "\n",
    "# set x-axis rotation\n",
    "plt.xticks(rotation = 90)\n",
    "\n",
    "plt.tight_layout()\n",
    "plt.show()"
   ]
  },
  {
   "cell_type": "markdown",
   "metadata": {},
   "source": [
    "- **Top Revenue Product Types :**\n",
    "   - **Barista Espresso** with a revenue of **91,406.20**\n",
    "   - **Brewed Chai tea** with a revenue of **77,081.95**\n",
    "   - **Hot chocolate** with a revenue of **72,416.00**\n",
    "   - **Gourmet brewed coffee** with a revenue of **70,034.60**\n",
    "   - **Brewed Black tea** with a revenue of **47,932.00**\n",
    "<p>&nbsp;</p>\n",
    "- **Lowest Revenue Product Types :**\n",
    "   - **Organic Chocolate** with a revenue of **1,679.60**\n",
    "   - **Green tea** with a revenue of **1,470.75**\n",
    "   - **Green beans** with a revenue of **1,340.00**\n",
    "<p>&nbsp;</p>\n",
    "- **Other Observations :**\n",
    "    - Various products contribute to revenue across different ranges, with a mix of beverages (like **teas, coffees**) and snacks (**biscotti, pastries**).\n",
    "    - **Coffee-related products**, such as various brews and espresso variants, hold prominent positions in revenue generation.\n",
    "    - The lowest revenue-generating products are predominantly related to **tea** and specific beverage variants."
   ]
  },
  {
   "cell_type": "code",
   "execution_count": null,
   "metadata": {
    "execution": {
     "iopub.execute_input": "2023-12-03T21:25:26.905438Z",
     "iopub.status.busy": "2023-12-03T21:25:26.905076Z",
     "iopub.status.idle": "2023-12-03T21:25:27.14622Z",
     "shell.execute_reply": "2023-12-03T21:25:27.145127Z",
     "shell.execute_reply.started": "2023-12-03T21:25:26.905405Z"
    }
   },
   "outputs": [],
   "source": [
    "# Month VS revenue\n",
    "\n",
    "# Grouping by month and summing the revenue\n",
    "monthly_revenue  = data.groupby(\"month\")[\"Total revenue\"].sum().reset_index().sort_values(by = \"Total revenue\")\n",
    "\n",
    "# create line plot\n",
    "sns.lineplot(x = \"month\", y = \"Total revenue\", data = monthly_revenue , marker = \"o\")\n",
    "\n",
    "plt.tight_layout()\n",
    "plt.show()"
   ]
  },
  {
   "cell_type": "markdown",
   "metadata": {},
   "source": [
    "- **We can see 🎛️📊 :**\n",
    "    - **Jun**e had the highest total revenue, reaching **166,485.88**, making it the most profitable month.\n",
    "    - **May** followed closely behind with a total revenue of **156,727.76**, indicating strong performance.\n",
    "    - **Apri**l and **March** also performed well, generating revenues of **118,941.08** and **98,834.68**, respectively.\n",
    "    - **January** and **February** had comparatively lower revenue figures at **81,677.74** and **76,145.19**, respectively."
   ]
  }
 ],
 "metadata": {
  "kaggle": {
   "accelerator": "none",
   "dataSources": [
    {
     "datasetId": 4093156,
     "sourceId": 7100668,
     "sourceType": "datasetVersion"
    }
   ],
   "dockerImageVersionId": 30587,
   "isGpuEnabled": false,
   "isInternetEnabled": false,
   "language": "python",
   "sourceType": "notebook"
  },
  "kernelspec": {
   "display_name": "Python 3 (ipykernel)",
   "language": "python",
   "name": "python3"
  },
  "language_info": {
   "codemirror_mode": {
    "name": "ipython",
    "version": 3
   },
   "file_extension": ".py",
   "mimetype": "text/x-python",
   "name": "python",
   "nbconvert_exporter": "python",
   "pygments_lexer": "ipython3",
   "version": "3.9.7"
  }
 },
 "nbformat": 4,
 "nbformat_minor": 4
}
